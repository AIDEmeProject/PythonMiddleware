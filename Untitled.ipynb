{
 "cells": [
  {
   "cell_type": "code",
   "execution_count": 1,
   "metadata": {},
   "outputs": [],
   "source": [
    "import pickle as p\n",
    "# add path to explore_by_example src folder\n",
    "import os\n",
    "import sys\n",
    "module_path = os.path.abspath(os.path.join('..'))\n",
    "if module_path not in sys.path:\n",
    "    sys.path.append(module_path)\n",
    "\n",
    "\n",
    "# import usual libraries\n",
    "import numbers\n",
    "import numpy as np\n",
    "import pandas as pd\n",
    "import matplotlib.pyplot as plt\n",
    "from sklearn.svm import SVC\n",
    "from sklearn.metrics import f1_score\n",
    "\n",
    "# our system imports\n",
    "from aideme.active_learning import *\n",
    "from aideme.initial_sampling import StratifiedSampler\n",
    "from aideme.explore import *\n",
    "from aideme.utils.metrics import three_set_metric, classification_metrics\n",
    "from aideme.utils.plotting import plot_polytope\n",
    "try:\n",
    "    os.chdir('data')\n",
    "except:\n",
    "    pass\n",
    "%matplotlib inline\n",
    "\n",
    "def plot_fscore(metrics):\n",
    "    plt.figure()\n",
    "    df_list = [pd.DataFrame.from_dict({i: metric for i, metric in enumerate(ls)}, orient='index') for ls in metrics]\n",
    "    avg = sum([df['fscore'][~df['fscore'].isna()] for df in df_list]) / len(df_list)\n",
    "    avg_true = sum([df['true_positive'][~df['true_positive'].isna()] for df in df_list]) / len(df_list)\n",
    "    avg.plot(ylim=[0,1], marker='o',label='f1')\n",
    "    plt.legend()\n",
    "    plt.show()"
   ]
  },
  {
   "cell_type": "markdown",
   "metadata": {},
   "source": [
    "### Load the data"
   ]
  },
  {
   "cell_type": "code",
   "execution_count": 2,
   "metadata": {},
   "outputs": [],
   "source": [
    "dic_queries = {}\n",
    "for x in os.listdir():\n",
    "    if \"y_\" in x:\n",
    "        try:\n",
    "            dic_queries[x[:-2]] = p.load(open(x,'rb'))\n",
    "        except:\n",
    "            continue\n",
    "dataset = p.load(open('kaggle_jobs_dataset.p','rb'))\n",
    "df_ner = p.load(open('kaggle_jobs_entities.p','rb'))\n",
    "\n",
    "# Non-Decreasing categorization for Salary\n",
    "salary_liste = list(dataset.Queried_Salary.unique())\n",
    "salary_category = {}\n",
    "for cate, i in enumerate(salary_liste):\n",
    "    salary_category[i] = cate\n",
    "dataset['Salary'] = dataset.Queried_Salary.apply(lambda x: salary_category[x]) \n",
    "\n",
    "dataset = dataset.join(pd.get_dummies(dataset.Job_Type)).drop('Job_Type',1)\n",
    "\n",
    "### CREATE A SET OF SKILLS , ONE COLUMN PER SKILL\n",
    "minimum_appearances = 100\n",
    "def g(x):\n",
    "    answer = []\n",
    "    for i in x:\n",
    "        if i in liste_skills:\n",
    "            answer.append(i)\n",
    "    return answer\n",
    "\n",
    "f = lambda x :[] if str(x)=='nan' else x.replace('[','').replace(']','').replace('\"','').replace(\" \",\"\").replace(\"'\",'').lower().split(',') \n",
    "\n",
    "skill_count = pd.Series(dataset.Skill.apply(f).sum()).value_counts()\n",
    "liste_skills = list(skill_count[skill_count>minimum_appearances].index)\n",
    "dataset['new_skill'] = pd.Series(dataset.Skill.apply(f)).apply(g)\n",
    "for col in liste_skills:\n",
    "    dataset[col] = dataset['new_skill'].apply(lambda x: int(col in x))\n",
    "### SET OF SKILLS DONE\n",
    "\n",
    "bert = p.load(open('representation_bert_large.p','rb'))\n",
    "dataset['bert'] = bert\n",
    "df_bert = pd.DataFrame(np.concatenate(np.array(bert)).reshape(len(bert), -1))\n",
    "roberta = list(p.load(open('kaggle_jobs_roberta_embeddings.p','rb'))['Embeddings'])\n",
    "df_roberta = pd.DataFrame(np.array(roberta).reshape(len(roberta), -1))\n",
    "### JOB TITLE DATAFRAME\n",
    "jobtitle = p.load(open('representation_bert_jobtitle.p','rb'))\n",
    "df_jobtitle_big = pd.DataFrame(np.array(jobtitle).reshape(-1,1024))\n",
    "jobtitle = p.load(open('representation_jobtitle_small.p','rb'))\n",
    "df_jobtitle_small = pd.DataFrame(np.array(jobtitle).reshape(len(jobtitle),-1))\n",
    "roberta_jobttitle = list(p.load(open('kaggle_jobs_roberta_embeddings.p','rb'))['Embedding_job_title'])\n",
    "df_roberta_jobtitle = pd.DataFrame(np.array(roberta_jobttitle).reshape(len(roberta_jobttitle),-1))\n",
    "### Backtrad\n",
    "backtrad = p.load(open('representation_bert_large_backtrad.p','rb'))\n",
    "df_backtrad = pd.DataFrame(np.array(backtrad).reshape(len(backtrad),-1))  \n",
    "                           \n",
    "### Company \n",
    "company = p.load(open('representation_company.p','rb'))\n",
    "df_company = pd.DataFrame(np.array(company).reshape(len(company),-1))  \n"
   ]
  },
  {
   "cell_type": "code",
   "execution_count": 3,
   "metadata": {},
   "outputs": [
    {
     "name": "stdout",
     "output_type": "stream",
     "text": [
      "number of valid elements: 1379, proportion 24.129483814523184%\n",
      "number of columns: 103\n"
     ]
    }
   ],
   "source": [
    "cols = [col for col in dataset.columns if (dataset.isna().sum()<100)[col]]\n",
    "cols = [col for col in cols if (isinstance(dataset[col][0], numbers.Number))]\n",
    "X = dataset[cols]\n",
    "X_bis = dataset[cols]\n",
    "y = np.logical_and.reduce([X['data_engineer']>0]) #, X['data_analyst']>0, X['No_of_Skills']>2])\n",
    "print('number of valid elements:', str(y.sum())+',','proportion', str(y.sum()*100/len(y))+'%')\n",
    "print('number of columns:', len(X.columns))"
   ]
  },
  {
   "cell_type": "code",
   "execution_count": 4,
   "metadata": {},
   "outputs": [
    {
     "name": "stderr",
     "output_type": "stream",
     "text": [
      "/home/bastien/anaconda3/lib/python3.7/site-packages/ipykernel_launcher.py:1: SettingWithCopyWarning: \n",
      "A value is trying to be set on a copy of a slice from a DataFrame.\n",
      "Try using .loc[row_indexer,col_indexer] = value instead\n",
      "\n",
      "See the caveats in the documentation: http://pandas.pydata.org/pandas-docs/stable/indexing.html#indexing-view-versus-copy\n",
      "  \"\"\"Entry point for launching an IPython kernel.\n"
     ]
    }
   ],
   "source": [
    "X['index_'] = list(X.index)\n",
    "y_bas = X['index_'].apply(lambda x : x in dic_queries['y_bastien'])\n",
    "y_luc = X['index_'].apply(lambda x : x in dic_queries['y_luciano'])\n",
    "y_enh = X['index_'].apply(lambda x : x in dic_queries['y_enhui'])\n",
    "y_pie = X['index_'].apply(lambda x : x in dic_queries['y_pierre'])\n",
    "y_chi = X['index_'].apply(lambda x : x in dic_queries['y_chiheb'])\n",
    "y_mar = X['index_'].apply(lambda x : x in dic_queries['y_marc'])\n",
    "y_ben = X['index_'].apply(lambda x : x in dic_queries['y_benoit'])\n",
    "X = X.drop(['index_'],1)"
   ]
  },
  {
   "cell_type": "code",
   "execution_count": 5,
   "metadata": {},
   "outputs": [
    {
     "name": "stdout",
     "output_type": "stream",
     "text": [
      "Ben\n",
      "iter: 0, fscore: 0.010003572704537335, true_positive: 14, false_positive: 2754, false_negative: 17, tsm: 0.0\n",
      "iter: 15, fscore: 0.12121212121212122, true_positive: 2, false_positive: 0, false_negative: 29, tsm: 0.0\n",
      "iter: 30, fscore: 0.12121212121212122, true_positive: 2, false_positive: 0, false_negative: 29, tsm: 0.0\n",
      "iter: 45, fscore: 0.2777777777777778, true_positive: 5, false_positive: 0, false_negative: 26, tsm: 0.0\n",
      "iter: 60, fscore: 0.41025641025641024, true_positive: 8, false_positive: 0, false_negative: 23, tsm: 0.0\n",
      "iter: 75, fscore: 0.5581395348837209, true_positive: 12, false_positive: 0, false_negative: 19, tsm: 0.0\n",
      "iter: 90, fscore: 0.5909090909090909, true_positive: 13, false_positive: 0, false_negative: 18, tsm: 0.0\n",
      "iter: 105, fscore: 0.6222222222222222, true_positive: 14, false_positive: 0, false_negative: 17, tsm: 0.0\n",
      "iter: 120, fscore: 0.7843137254901961, true_positive: 20, false_positive: 0, false_negative: 11, tsm: 0.0\n",
      "iter: 135, fscore: 0.8301886792452831, true_positive: 22, false_positive: 0, false_negative: 9, tsm: 0.0\n",
      "iter: 149, fscore: 0.8301886792452831, true_positive: 22, false_positive: 0, false_negative: 9, tsm: 0.0\n",
      "iter: 0, fscore: 0.006378986866791745, true_positive: 17, false_positive: 5282, false_negative: 14, tsm: 0.0\n",
      "iter: 15, fscore: 0.05714285714285714, true_positive: 1, false_positive: 3, false_negative: 30, tsm: 0.0\n",
      "iter: 30, fscore: 0.0625, true_positive: 1, false_positive: 0, false_negative: 30, tsm: 0.0\n",
      "iter: 45, fscore: 0.0625, true_positive: 1, false_positive: 0, false_negative: 30, tsm: 0.0\n",
      "iter: 60, fscore: 0.0625, true_positive: 1, false_positive: 0, false_negative: 30, tsm: 0.0\n",
      "iter: 75, fscore: 0.12121212121212122, true_positive: 2, false_positive: 0, false_negative: 29, tsm: 0.0\n",
      "iter: 90, fscore: 0.23809523809523808, true_positive: 5, false_positive: 6, false_negative: 26, tsm: 0.0\n",
      "iter: 105, fscore: 0.3157894736842105, true_positive: 6, false_positive: 1, false_negative: 25, tsm: 0.0\n",
      "iter: 120, fscore: 0.41025641025641024, true_positive: 8, false_positive: 0, false_negative: 23, tsm: 0.0\n",
      "iter: 135, fscore: 0.41025641025641024, true_positive: 8, false_positive: 0, false_negative: 23, tsm: 0.0\n",
      "iter: 149, fscore: 0.45, true_positive: 9, false_positive: 0, false_negative: 22, tsm: 0.0\n",
      "iter: 0, fscore: 0.011970927746900385, true_positive: 14, false_positive: 2294, false_negative: 17, tsm: 0.0\n",
      "iter: 15, fscore: 0.0625, true_positive: 1, false_positive: 0, false_negative: 30, tsm: 0.0\n",
      "iter: 30, fscore: 0.1724137931034483, true_positive: 5, false_positive: 22, false_negative: 26, tsm: 0.0\n",
      "iter: 45, fscore: 0.21818181818181817, true_positive: 6, false_positive: 18, false_negative: 25, tsm: 0.0\n",
      "iter: 60, fscore: 0.05698005698005698, true_positive: 10, false_positive: 310, false_negative: 21, tsm: 0.0\n",
      "iter: 75, fscore: 0.3492063492063492, true_positive: 11, false_positive: 21, false_negative: 20, tsm: 0.0\n",
      "iter: 90, fscore: 0.5, true_positive: 13, false_positive: 8, false_negative: 18, tsm: 0.0\n",
      "iter: 105, fscore: 0.5185185185185185, true_positive: 14, false_positive: 9, false_negative: 17, tsm: 0.0\n",
      "iter: 120, fscore: 0.6, true_positive: 15, false_positive: 4, false_negative: 16, tsm: 0.0\n",
      "iter: 135, fscore: 0.6, true_positive: 15, false_positive: 4, false_negative: 16, tsm: 0.0\n",
      "iter: 149, fscore: 0.6530612244897959, true_positive: 16, false_positive: 2, false_negative: 15, tsm: 0.0\n"
     ]
    },
    {
     "data": {
      "image/png": "[encoded data removed]",
      "text/plain": [
       "<Figure size 432x288 with 1 Axes>"
      ]
     },
     "metadata": {
      "needs_background": "light"
     },
     "output_type": "display_data"
    },
    {
     "name": "stdout",
     "output_type": "stream",
     "text": [
      "iter: 0, fscore: 0.011387163561076604, true_positive: 22, false_positive: 3811, false_negative: 9, tsm: 0.0\n",
      "iter: 15, fscore: 0.12121212121212122, true_positive: 2, false_positive: 0, false_negative: 29, tsm: 0.0\n",
      "iter: 30, fscore: 0.22857142857142856, true_positive: 4, false_positive: 0, false_negative: 27, tsm: 0.0\n",
      "iter: 45, fscore: 0.3684210526315789, true_positive: 7, false_positive: 0, false_negative: 24, tsm: 0.0\n",
      "iter: 60, fscore: 0.42857142857142855, true_positive: 9, false_positive: 2, false_negative: 22, tsm: 0.0\n",
      "iter: 75, fscore: 0.5581395348837209, true_positive: 12, false_positive: 0, false_negative: 19, tsm: 0.0\n",
      "iter: 90, fscore: 0.5909090909090909, true_positive: 13, false_positive: 0, false_negative: 18, tsm: 0.0\n",
      "iter: 105, fscore: 0.6521739130434783, true_positive: 15, false_positive: 0, false_negative: 16, tsm: 0.0\n",
      "iter: 120, fscore: 0.8076923076923077, true_positive: 21, false_positive: 0, false_negative: 10, tsm: 0.0\n",
      "iter: 135, fscore: 0.8518518518518519, true_positive: 23, false_positive: 0, false_negative: 8, tsm: 0.0\n",
      "iter: 149, fscore: 0.8727272727272727, true_positive: 24, false_positive: 0, false_negative: 7, tsm: 0.0\n",
      "iter: 0, fscore: 0.037359900373599, true_positive: 15, false_positive: 757, false_negative: 16, tsm: 0.0\n",
      "iter: 15, fscore: 0.17647058823529413, true_positive: 3, false_positive: 0, false_negative: 28, tsm: 0.0\n",
      "iter: 30, fscore: 0.32432432432432434, true_positive: 6, false_positive: 0, false_negative: 25, tsm: 0.0\n",
      "iter: 45, fscore: 0.3684210526315789, true_positive: 7, false_positive: 0, false_negative: 24, tsm: 0.0\n",
      "iter: 60, fscore: 0.43902439024390244, true_positive: 9, false_positive: 1, false_negative: 22, tsm: 0.0\n",
      "iter: 75, fscore: 0.5581395348837209, true_positive: 12, false_positive: 0, false_negative: 19, tsm: 0.0\n",
      "iter: 90, fscore: 0.5581395348837209, true_positive: 12, false_positive: 0, false_negative: 19, tsm: 0.0\n",
      "iter: 105, fscore: 0.6521739130434783, true_positive: 15, false_positive: 0, false_negative: 16, tsm: 0.0\n",
      "iter: 120, fscore: 0.8076923076923077, true_positive: 21, false_positive: 0, false_negative: 10, tsm: 0.0\n",
      "iter: 135, fscore: 0.8727272727272727, true_positive: 24, false_positive: 0, false_negative: 7, tsm: 0.0\n",
      "iter: 149, fscore: 0.8727272727272727, true_positive: 24, false_positive: 0, false_negative: 7, tsm: 0.0\n",
      "iter: 0, fscore: 0.013333333333333334, true_positive: 12, false_positive: 1757, false_negative: 19, tsm: 0.0\n",
      "iter: 15, fscore: 0.11320754716981132, true_positive: 3, false_positive: 19, false_negative: 28, tsm: 0.0\n",
      "iter: 30, fscore: 0.17647058823529413, true_positive: 3, false_positive: 0, false_negative: 28, tsm: 0.0\n",
      "iter: 45, fscore: 0.3684210526315789, true_positive: 7, false_positive: 0, false_negative: 24, tsm: 0.0\n",
      "iter: 60, fscore: 0.3684210526315789, true_positive: 7, false_positive: 0, false_negative: 24, tsm: 0.0\n",
      "iter: 75, fscore: 0.5581395348837209, true_positive: 12, false_positive: 0, false_negative: 19, tsm: 0.0\n",
      "iter: 90, fscore: 0.76, true_positive: 19, false_positive: 0, false_negative: 12, tsm: 0.0\n",
      "iter: 105, fscore: 0.7843137254901961, true_positive: 20, false_positive: 0, false_negative: 11, tsm: 0.0\n",
      "iter: 120, fscore: 0.8076923076923077, true_positive: 21, false_positive: 0, false_negative: 10, tsm: 0.0\n",
      "iter: 135, fscore: 0.8301886792452831, true_positive: 22, false_positive: 0, false_negative: 9, tsm: 0.0\n",
      "iter: 149, fscore: 0.8518518518518519, true_positive: 23, false_positive: 0, false_negative: 8, tsm: 0.0\n"
     ]
    },
    {
     "data": {
      "image/png": "[encoded data removed]",
      "text/plain": [
       "<Figure size 432x288 with 1 Axes>"
      ]
     },
     "metadata": {
      "needs_background": "light"
     },
     "output_type": "display_data"
    },
    {
     "name": "stdout",
     "output_type": "stream",
     "text": [
      "iter: 0, fscore: 0.031313131313131314, true_positive: 31, false_positive: 1918, false_negative: 0, tsm: 0.0\n",
      "iter: 15, fscore: 0.5, true_positive: 15, false_positive: 14, false_negative: 16, tsm: 0.0\n",
      "iter: 30, fscore: 0.5333333333333333, true_positive: 12, false_positive: 2, false_negative: 19, tsm: 0.0\n",
      "iter: 45, fscore: 0.5909090909090909, true_positive: 13, false_positive: 0, false_negative: 18, tsm: 0.0\n",
      "iter: 60, fscore: 0.5909090909090909, true_positive: 13, false_positive: 0, false_negative: 18, tsm: 0.0\n",
      "iter: 75, fscore: 0.6086956521739131, true_positive: 14, false_positive: 1, false_negative: 17, tsm: 0.0\n",
      "iter: 90, fscore: 0.6923076923076923, true_positive: 18, false_positive: 3, false_negative: 13, tsm: 0.0\n",
      "iter: 105, fscore: 0.7169811320754716, true_positive: 19, false_positive: 3, false_negative: 12, tsm: 0.0\n",
      "iter: 120, fscore: 0.7169811320754716, true_positive: 19, false_positive: 3, false_negative: 12, tsm: 0.0\n",
      "iter: 135, fscore: 0.7169811320754716, true_positive: 19, false_positive: 3, false_negative: 12, tsm: 0.0\n",
      "iter: 149, fscore: 0.7169811320754716, true_positive: 19, false_positive: 3, false_negative: 12, tsm: 0.0\n",
      "iter: 0, fscore: 0.053304904051172705, true_positive: 25, false_positive: 882, false_negative: 6, tsm: 0.0\n",
      "iter: 15, fscore: 0.3157894736842105, true_positive: 6, false_positive: 1, false_negative: 25, tsm: 0.0\n",
      "iter: 30, fscore: 0.3684210526315789, true_positive: 7, false_positive: 0, false_negative: 24, tsm: 0.0\n",
      "iter: 45, fscore: 0.5238095238095238, true_positive: 11, false_positive: 0, false_negative: 20, tsm: 0.0\n",
      "iter: 60, fscore: 0.6530612244897959, true_positive: 16, false_positive: 2, false_negative: 15, tsm: 0.0\n",
      "iter: 75, fscore: 0.68, true_positive: 17, false_positive: 2, false_negative: 14, tsm: 0.0\n",
      "iter: 90, fscore: 0.7857142857142857, true_positive: 22, false_positive: 3, false_negative: 9, tsm: 0.0\n",
      "iter: 105, fscore: 0.847457627118644, true_positive: 25, false_positive: 3, false_negative: 6, tsm: 0.0\n",
      "iter: 120, fscore: 0.8666666666666667, true_positive: 26, false_positive: 3, false_negative: 5, tsm: 0.0\n",
      "iter: 135, fscore: 0.8666666666666667, true_positive: 26, false_positive: 3, false_negative: 5, tsm: 0.0\n",
      "iter: 149, fscore: 0.8666666666666667, true_positive: 26, false_positive: 3, false_negative: 5, tsm: 0.0\n",
      "iter: 0, fscore: 0.025846153846153845, true_positive: 21, false_positive: 1573, false_negative: 10, tsm: 0.0\n",
      "iter: 15, fscore: 0.4235294117647059, true_positive: 18, false_positive: 36, false_negative: 13, tsm: 0.0\n",
      "iter: 30, fscore: 0.6052631578947368, true_positive: 23, false_positive: 22, false_negative: 8, tsm: 0.0\n",
      "iter: 45, fscore: 0.7419354838709677, true_positive: 23, false_positive: 8, false_negative: 8, tsm: 0.0\n",
      "iter: 60, fscore: 0.7666666666666667, true_positive: 23, false_positive: 6, false_negative: 8, tsm: 0.0\n",
      "iter: 75, fscore: 0.8135593220338984, true_positive: 24, false_positive: 4, false_negative: 7, tsm: 0.0\n",
      "iter: 90, fscore: 0.8275862068965517, true_positive: 24, false_positive: 3, false_negative: 7, tsm: 0.0\n",
      "iter: 105, fscore: 0.8275862068965517, true_positive: 24, false_positive: 3, false_negative: 7, tsm: 0.0\n",
      "iter: 120, fscore: 0.847457627118644, true_positive: 25, false_positive: 3, false_negative: 6, tsm: 0.0\n",
      "iter: 135, fscore: 0.8666666666666667, true_positive: 26, false_positive: 3, false_negative: 5, tsm: 0.0\n",
      "iter: 149, fscore: 0.9032258064516129, true_positive: 28, false_positive: 3, false_negative: 3, tsm: 0.0\n"
     ]
    },
    {
     "data": {
      "image/png": "[encoded data removed]",
      "text/plain": [
       "<Figure size 432x288 with 1 Axes>"
      ]
     },
     "metadata": {
      "needs_background": "light"
     },
     "output_type": "display_data"
    },
    {
     "name": "stdout",
     "output_type": "stream",
     "text": [
      "Luciano\n",
      "iter: 0, fscore: 0.007503410641200546, true_positive: 11, false_positive: 2906, false_negative: 4, tsm: 0.0\n",
      "iter: 15, fscore: 0.125, true_positive: 1, false_positive: 0, false_negative: 14, tsm: 0.0\n",
      "iter: 30, fscore: 0.125, true_positive: 1, false_positive: 0, false_negative: 14, tsm: 0.0\n",
      "iter: 45, fscore: 0.125, true_positive: 1, false_positive: 0, false_negative: 14, tsm: 0.0\n",
      "iter: 60, fscore: 0.125, true_positive: 1, false_positive: 0, false_negative: 14, tsm: 0.0\n",
      "iter: 75, fscore: 0.125, true_positive: 1, false_positive: 0, false_negative: 14, tsm: 0.0\n",
      "iter: 90, fscore: 0.125, true_positive: 1, false_positive: 0, false_negative: 14, tsm: 0.0\n",
      "iter: 105, fscore: 0.125, true_positive: 1, false_positive: 0, false_negative: 14, tsm: 0.0\n",
      "iter: 120, fscore: 0.125, true_positive: 1, false_positive: 0, false_negative: 14, tsm: 0.0\n",
      "iter: 135, fscore: 0.125, true_positive: 1, false_positive: 0, false_negative: 14, tsm: 0.0\n",
      "iter: 149, fscore: 0.125, true_positive: 1, false_positive: 0, false_negative: 14, tsm: 0.0\n",
      "iter: 0, fscore: 0.024242424242424242, true_positive: 4, false_positive: 311, false_negative: 11, tsm: 0.0\n",
      "iter: 15, fscore: 0.3, true_positive: 3, false_positive: 2, false_negative: 12, tsm: 0.0\n",
      "iter: 30, fscore: 0.125, true_positive: 1, false_positive: 0, false_negative: 14, tsm: 0.0\n",
      "iter: 45, fscore: 0.19607843137254902, true_positive: 5, false_positive: 31, false_negative: 10, tsm: 0.0\n",
      "iter: 60, fscore: 0.47619047619047616, true_positive: 5, false_positive: 1, false_negative: 10, tsm: 0.0\n",
      "iter: 75, fscore: 0.47619047619047616, true_positive: 5, false_positive: 1, false_negative: 10, tsm: 0.0\n",
      "iter: 90, fscore: 0.47619047619047616, true_positive: 5, false_positive: 1, false_negative: 10, tsm: 0.0\n",
      "iter: 105, fscore: 0.47619047619047616, true_positive: 5, false_positive: 1, false_negative: 10, tsm: 0.0\n",
      "iter: 120, fscore: 0.47619047619047616, true_positive: 5, false_positive: 1, false_negative: 10, tsm: 0.0\n",
      "iter: 135, fscore: 0.47619047619047616, true_positive: 5, false_positive: 1, false_negative: 10, tsm: 0.0\n",
      "iter: 149, fscore: 0.47619047619047616, true_positive: 5, false_positive: 1, false_negative: 10, tsm: 0.0\n",
      "iter: 0, fscore: 0.006394316163410302, true_positive: 9, false_positive: 2791, false_negative: 6, tsm: 0.0\n",
      "iter: 15, fscore: 0.125, true_positive: 1, false_positive: 0, false_negative: 14, tsm: 0.0\n",
      "iter: 30, fscore: 0.125, true_positive: 1, false_positive: 0, false_negative: 14, tsm: 0.0\n",
      "iter: 45, fscore: 0.125, true_positive: 1, false_positive: 0, false_negative: 14, tsm: 0.0\n",
      "iter: 60, fscore: 0.125, true_positive: 1, false_positive: 0, false_negative: 14, tsm: 0.0\n",
      "iter: 75, fscore: 0.125, true_positive: 1, false_positive: 0, false_negative: 14, tsm: 0.0\n",
      "iter: 90, fscore: 0.125, true_positive: 1, false_positive: 0, false_negative: 14, tsm: 0.0\n",
      "iter: 105, fscore: 0.125, true_positive: 1, false_positive: 0, false_negative: 14, tsm: 0.0\n",
      "iter: 120, fscore: 0.125, true_positive: 1, false_positive: 0, false_negative: 14, tsm: 0.0\n",
      "iter: 135, fscore: 0.125, true_positive: 1, false_positive: 0, false_negative: 14, tsm: 0.0\n",
      "iter: 149, fscore: 0.125, true_positive: 1, false_positive: 0, false_negative: 14, tsm: 0.0\n",
      "iter: 0, fscore: 0.005432322317790856, true_positive: 12, false_positive: 4391, false_negative: 3, tsm: 0.0\n",
      "iter: 15, fscore: 0.09523809523809523, true_positive: 1, false_positive: 5, false_negative: 14, tsm: 0.0\n",
      "iter: 30, fscore: 0.125, true_positive: 1, false_positive: 0, false_negative: 14, tsm: 0.0\n",
      "iter: 45, fscore: 0.125, true_positive: 1, false_positive: 0, false_negative: 14, tsm: 0.0\n",
      "iter: 60, fscore: 0.2222222222222222, true_positive: 2, false_positive: 1, false_negative: 13, tsm: 0.0\n",
      "iter: 75, fscore: 0.23529411764705882, true_positive: 2, false_positive: 0, false_negative: 13, tsm: 0.0\n",
      "iter: 90, fscore: 0.23529411764705882, true_positive: 2, false_positive: 0, false_negative: 13, tsm: 0.0\n",
      "iter: 105, fscore: 0.23529411764705882, true_positive: 2, false_positive: 0, false_negative: 13, tsm: 0.0\n",
      "iter: 120, fscore: 0.23529411764705882, true_positive: 2, false_positive: 0, false_negative: 13, tsm: 0.0\n",
      "iter: 135, fscore: 0.23529411764705882, true_positive: 2, false_positive: 0, false_negative: 13, tsm: 0.0\n",
      "iter: 149, fscore: 0.23529411764705882, true_positive: 2, false_positive: 0, false_negative: 13, tsm: 0.0\n",
      "iter: 0, fscore: 0.00855431993156544, true_positive: 5, false_positive: 1149, false_negative: 10, tsm: 0.0\n",
      "iter: 15, fscore: 0.23529411764705882, true_positive: 2, false_positive: 0, false_negative: 13, tsm: 0.0\n",
      "iter: 30, fscore: 0.23529411764705882, true_positive: 2, false_positive: 0, false_negative: 13, tsm: 0.0\n",
      "iter: 45, fscore: 0.23529411764705882, true_positive: 2, false_positive: 0, false_negative: 13, tsm: 0.0\n",
      "iter: 60, fscore: 0.23529411764705882, true_positive: 2, false_positive: 0, false_negative: 13, tsm: 0.0\n",
      "iter: 75, fscore: 0.23529411764705882, true_positive: 2, false_positive: 0, false_negative: 13, tsm: 0.0\n",
      "iter: 90, fscore: 0.23529411764705882, true_positive: 2, false_positive: 0, false_negative: 13, tsm: 0.0\n"
     ]
    },
    {
     "ename": "KeyboardInterrupt",
     "evalue": "",
     "output_type": "error",
     "traceback": [
      "\u001b[0;31m---------------------------------------------------------------------------\u001b[0m",
      "\u001b[0;31mKeyboardInterrupt\u001b[0m                         Traceback (most recent call last)",
      "\u001b[0;32m<ipython-input-5-f9b3c79e8aab>\u001b[0m in \u001b[0;36m<module>\u001b[0;34m\u001b[0m\n\u001b[1;32m     32\u001b[0m \u001b[0mprint\u001b[0m\u001b[0;34m(\u001b[0m\u001b[0;34m'Luciano'\u001b[0m\u001b[0;34m)\u001b[0m\u001b[0;34m\u001b[0m\u001b[0;34m\u001b[0m\u001b[0m\n\u001b[1;32m     33\u001b[0m \u001b[0mmetrics3\u001b[0m \u001b[0;34m=\u001b[0m \u001b[0mexplore\u001b[0m\u001b[0;34m.\u001b[0m\u001b[0mrun\u001b[0m\u001b[0;34m(\u001b[0m\u001b[0mX_one\u001b[0m \u001b[0;34m,\u001b[0m \u001b[0my_luc\u001b[0m\u001b[0;34m,\u001b[0m \u001b[0mlearner\u001b[0m\u001b[0;34m,\u001b[0m\u001b[0mX_bis\u001b[0m\u001b[0;34m=\u001b[0m\u001b[0mX_two\u001b[0m\u001b[0;34m,\u001b[0m \u001b[0mrepeat\u001b[0m\u001b[0;34m=\u001b[0m\u001b[0;36m4\u001b[0m\u001b[0;34m)\u001b[0m  \u001b[0;31m# 'repeat' specifies how many times to repeat the exploration process\u001b[0m\u001b[0;34m\u001b[0m\u001b[0;34m\u001b[0m\u001b[0m\n\u001b[0;32m---> 34\u001b[0;31m \u001b[0mmetrics4\u001b[0m \u001b[0;34m=\u001b[0m \u001b[0mexplore\u001b[0m\u001b[0;34m.\u001b[0m\u001b[0mrun\u001b[0m\u001b[0;34m(\u001b[0m\u001b[0mX_one\u001b[0m \u001b[0;34m,\u001b[0m \u001b[0my_luc\u001b[0m\u001b[0;34m,\u001b[0m \u001b[0mlearner\u001b[0m\u001b[0;34m,\u001b[0m \u001b[0mrepeat\u001b[0m\u001b[0;34m=\u001b[0m\u001b[0;36m4\u001b[0m\u001b[0;34m)\u001b[0m\u001b[0;34m\u001b[0m\u001b[0;34m\u001b[0m\u001b[0m\n\u001b[0m\u001b[1;32m     35\u001b[0m \u001b[0;31m#enhui\u001b[0m\u001b[0;34m\u001b[0m\u001b[0;34m\u001b[0m\u001b[0;34m\u001b[0m\u001b[0m\n\u001b[1;32m     36\u001b[0m \u001b[0mprint\u001b[0m\u001b[0;34m(\u001b[0m\u001b[0;34m'Enhui'\u001b[0m\u001b[0;34m)\u001b[0m\u001b[0;34m\u001b[0m\u001b[0;34m\u001b[0m\u001b[0m\n",
      "\u001b[0;32m~/Projet_Yanlei/uptodate/aideme/aideme/explore/explore.py\u001b[0m in \u001b[0;36mrun\u001b[0;34m(self, X, y, active_learner, X_bis, repeat)\u001b[0m\n\u001b[1;32m     63\u001b[0m         \u001b[0;32mif\u001b[0m \u001b[0mX_bis\u001b[0m \u001b[0;32mis\u001b[0m \u001b[0;32mnot\u001b[0m \u001b[0;32mNone\u001b[0m\u001b[0;34m:\u001b[0m\u001b[0;34m\u001b[0m\u001b[0;34m\u001b[0m\u001b[0m\n\u001b[1;32m     64\u001b[0m             \u001b[0mX_bis\u001b[0m\u001b[0;34m,\u001b[0m \u001b[0my\u001b[0m \u001b[0;34m=\u001b[0m \u001b[0mcheck_X_y\u001b[0m\u001b[0;34m(\u001b[0m\u001b[0mX_bis\u001b[0m\u001b[0;34m,\u001b[0m \u001b[0my\u001b[0m\u001b[0;34m,\u001b[0m \u001b[0mdtype\u001b[0m\u001b[0;34m=\u001b[0m\u001b[0;34m\"numeric\"\u001b[0m\u001b[0;34m,\u001b[0m \u001b[0mensure_2d\u001b[0m\u001b[0;34m=\u001b[0m\u001b[0;32mTrue\u001b[0m\u001b[0;34m,\u001b[0m \u001b[0mmulti_output\u001b[0m\u001b[0;34m=\u001b[0m\u001b[0;32mTrue\u001b[0m\u001b[0;34m,\u001b[0m \u001b[0my_numeric\u001b[0m\u001b[0;34m=\u001b[0m\u001b[0;32mFalse\u001b[0m\u001b[0;34m,\u001b[0m\u001b[0mcopy\u001b[0m\u001b[0;34m=\u001b[0m\u001b[0;32mFalse\u001b[0m\u001b[0;34m,\u001b[0m \u001b[0mforce_all_finite\u001b[0m\u001b[0;34m=\u001b[0m\u001b[0;32mTrue\u001b[0m\u001b[0;34m)\u001b[0m\u001b[0;34m\u001b[0m\u001b[0;34m\u001b[0m\u001b[0m\n\u001b[0;32m---> 65\u001b[0;31m         \u001b[0;32mreturn\u001b[0m \u001b[0;34m[\u001b[0m\u001b[0mself\u001b[0m\u001b[0;34m.\u001b[0m\u001b[0m_run\u001b[0m\u001b[0;34m(\u001b[0m\u001b[0mX\u001b[0m\u001b[0;34m,\u001b[0m\u001b[0mX_bis\u001b[0m\u001b[0;34m,\u001b[0m \u001b[0my\u001b[0m\u001b[0;34m,\u001b[0m \u001b[0mactive_learner\u001b[0m\u001b[0;34m)\u001b[0m \u001b[0;32mfor\u001b[0m \u001b[0m_\u001b[0m \u001b[0;32min\u001b[0m \u001b[0mrange\u001b[0m\u001b[0;34m(\u001b[0m\u001b[0mrepeat\u001b[0m\u001b[0;34m)\u001b[0m\u001b[0;34m]\u001b[0m\u001b[0;34m\u001b[0m\u001b[0;34m\u001b[0m\u001b[0m\n\u001b[0m\u001b[1;32m     66\u001b[0m \u001b[0;34m\u001b[0m\u001b[0m\n\u001b[1;32m     67\u001b[0m     \u001b[0;32mdef\u001b[0m \u001b[0m_run\u001b[0m\u001b[0;34m(\u001b[0m\u001b[0mself\u001b[0m\u001b[0;34m,\u001b[0m \u001b[0mX\u001b[0m\u001b[0;34m,\u001b[0m\u001b[0mX_bis\u001b[0m\u001b[0;34m,\u001b[0m \u001b[0my\u001b[0m\u001b[0;34m,\u001b[0m \u001b[0mactive_learner\u001b[0m\u001b[0;34m)\u001b[0m\u001b[0;34m:\u001b[0m\u001b[0;34m\u001b[0m\u001b[0;34m\u001b[0m\u001b[0m\n",
      "\u001b[0;32m~/Projet_Yanlei/uptodate/aideme/aideme/explore/explore.py\u001b[0m in \u001b[0;36m<listcomp>\u001b[0;34m(.0)\u001b[0m\n\u001b[1;32m     63\u001b[0m         \u001b[0;32mif\u001b[0m \u001b[0mX_bis\u001b[0m \u001b[0;32mis\u001b[0m \u001b[0;32mnot\u001b[0m \u001b[0;32mNone\u001b[0m\u001b[0;34m:\u001b[0m\u001b[0;34m\u001b[0m\u001b[0;34m\u001b[0m\u001b[0m\n\u001b[1;32m     64\u001b[0m             \u001b[0mX_bis\u001b[0m\u001b[0;34m,\u001b[0m \u001b[0my\u001b[0m \u001b[0;34m=\u001b[0m \u001b[0mcheck_X_y\u001b[0m\u001b[0;34m(\u001b[0m\u001b[0mX_bis\u001b[0m\u001b[0;34m,\u001b[0m \u001b[0my\u001b[0m\u001b[0;34m,\u001b[0m \u001b[0mdtype\u001b[0m\u001b[0;34m=\u001b[0m\u001b[0;34m\"numeric\"\u001b[0m\u001b[0;34m,\u001b[0m \u001b[0mensure_2d\u001b[0m\u001b[0;34m=\u001b[0m\u001b[0;32mTrue\u001b[0m\u001b[0;34m,\u001b[0m \u001b[0mmulti_output\u001b[0m\u001b[0;34m=\u001b[0m\u001b[0;32mTrue\u001b[0m\u001b[0;34m,\u001b[0m \u001b[0my_numeric\u001b[0m\u001b[0;34m=\u001b[0m\u001b[0;32mFalse\u001b[0m\u001b[0;34m,\u001b[0m\u001b[0mcopy\u001b[0m\u001b[0;34m=\u001b[0m\u001b[0;32mFalse\u001b[0m\u001b[0;34m,\u001b[0m \u001b[0mforce_all_finite\u001b[0m\u001b[0;34m=\u001b[0m\u001b[0;32mTrue\u001b[0m\u001b[0;34m)\u001b[0m\u001b[0;34m\u001b[0m\u001b[0;34m\u001b[0m\u001b[0m\n\u001b[0;32m---> 65\u001b[0;31m         \u001b[0;32mreturn\u001b[0m \u001b[0;34m[\u001b[0m\u001b[0mself\u001b[0m\u001b[0;34m.\u001b[0m\u001b[0m_run\u001b[0m\u001b[0;34m(\u001b[0m\u001b[0mX\u001b[0m\u001b[0;34m,\u001b[0m\u001b[0mX_bis\u001b[0m\u001b[0;34m,\u001b[0m \u001b[0my\u001b[0m\u001b[0;34m,\u001b[0m \u001b[0mactive_learner\u001b[0m\u001b[0;34m)\u001b[0m \u001b[0;32mfor\u001b[0m \u001b[0m_\u001b[0m \u001b[0;32min\u001b[0m \u001b[0mrange\u001b[0m\u001b[0;34m(\u001b[0m\u001b[0mrepeat\u001b[0m\u001b[0;34m)\u001b[0m\u001b[0;34m]\u001b[0m\u001b[0;34m\u001b[0m\u001b[0;34m\u001b[0m\u001b[0m\n\u001b[0m\u001b[1;32m     66\u001b[0m \u001b[0;34m\u001b[0m\u001b[0m\n\u001b[1;32m     67\u001b[0m     \u001b[0;32mdef\u001b[0m \u001b[0m_run\u001b[0m\u001b[0;34m(\u001b[0m\u001b[0mself\u001b[0m\u001b[0;34m,\u001b[0m \u001b[0mX\u001b[0m\u001b[0;34m,\u001b[0m\u001b[0mX_bis\u001b[0m\u001b[0;34m,\u001b[0m \u001b[0my\u001b[0m\u001b[0;34m,\u001b[0m \u001b[0mactive_learner\u001b[0m\u001b[0;34m)\u001b[0m\u001b[0;34m:\u001b[0m\u001b[0;34m\u001b[0m\u001b[0;34m\u001b[0m\u001b[0m\n",
      "\u001b[0;32m~/Projet_Yanlei/uptodate/aideme/aideme/explore/explore.py\u001b[0m in \u001b[0;36m_run\u001b[0;34m(self, X, X_bis, y, active_learner)\u001b[0m\n\u001b[1;32m     70\u001b[0m         \u001b[0miter\u001b[0m\u001b[0;34m,\u001b[0m \u001b[0mmetrics\u001b[0m \u001b[0;34m=\u001b[0m \u001b[0;36m0\u001b[0m\u001b[0;34m,\u001b[0m \u001b[0;34m[\u001b[0m\u001b[0;34m]\u001b[0m\u001b[0;34m\u001b[0m\u001b[0;34m\u001b[0m\u001b[0m\n\u001b[1;32m     71\u001b[0m         \u001b[0;32mwhile\u001b[0m \u001b[0mself\u001b[0m\u001b[0;34m.\u001b[0m\u001b[0m__will_continue_exploring\u001b[0m\u001b[0;34m(\u001b[0m\u001b[0mdata\u001b[0m\u001b[0;34m,\u001b[0m \u001b[0muser\u001b[0m\u001b[0;34m)\u001b[0m\u001b[0;34m:\u001b[0m\u001b[0;34m\u001b[0m\u001b[0;34m\u001b[0m\u001b[0m\n\u001b[0;32m---> 72\u001b[0;31m             \u001b[0mmetrics\u001b[0m\u001b[0;34m.\u001b[0m\u001b[0mappend\u001b[0m\u001b[0;34m(\u001b[0m\u001b[0mself\u001b[0m\u001b[0;34m.\u001b[0m\u001b[0m_run_single_iter\u001b[0m\u001b[0;34m(\u001b[0m\u001b[0miter\u001b[0m\u001b[0;34m,\u001b[0m \u001b[0mdata\u001b[0m\u001b[0;34m,\u001b[0m \u001b[0muser\u001b[0m\u001b[0;34m,\u001b[0m \u001b[0mactive_learner\u001b[0m\u001b[0;34m)\u001b[0m\u001b[0;34m)\u001b[0m\u001b[0;34m\u001b[0m\u001b[0;34m\u001b[0m\u001b[0m\n\u001b[0m\u001b[1;32m     73\u001b[0m             \u001b[0miter\u001b[0m \u001b[0;34m+=\u001b[0m \u001b[0;36m1\u001b[0m\u001b[0;34m\u001b[0m\u001b[0;34m\u001b[0m\u001b[0m\n\u001b[1;32m     74\u001b[0m \u001b[0;34m\u001b[0m\u001b[0m\n",
      "\u001b[0;32m~/Projet_Yanlei/uptodate/aideme/aideme/explore/explore.py\u001b[0m in \u001b[0;36m_run_single_iter\u001b[0;34m(self, iter, data, user, active_learner)\u001b[0m\n\u001b[1;32m     89\u001b[0m         \u001b[0;31m# find next point to label\u001b[0m\u001b[0;34m\u001b[0m\u001b[0;34m\u001b[0m\u001b[0;34m\u001b[0m\u001b[0m\n\u001b[1;32m     90\u001b[0m         \u001b[0mt0\u001b[0m \u001b[0;34m=\u001b[0m \u001b[0mperf_counter\u001b[0m\u001b[0;34m(\u001b[0m\u001b[0;34m)\u001b[0m\u001b[0;34m\u001b[0m\u001b[0;34m\u001b[0m\u001b[0m\n\u001b[0;32m---> 91\u001b[0;31m         \u001b[0midx\u001b[0m\u001b[0;34m,\u001b[0m \u001b[0mX\u001b[0m \u001b[0;34m=\u001b[0m \u001b[0mself\u001b[0m\u001b[0;34m.\u001b[0m\u001b[0m_get_next_point_to_label\u001b[0m\u001b[0;34m(\u001b[0m\u001b[0mdata\u001b[0m\u001b[0;34m,\u001b[0m \u001b[0muser\u001b[0m\u001b[0;34m,\u001b[0m \u001b[0mactive_learner\u001b[0m\u001b[0;34m)\u001b[0m\u001b[0;34m\u001b[0m\u001b[0;34m\u001b[0m\u001b[0m\n\u001b[0m\u001b[1;32m     92\u001b[0m         \u001b[0mmetrics\u001b[0m\u001b[0;34m[\u001b[0m\u001b[0;34m'get_next_time'\u001b[0m\u001b[0;34m]\u001b[0m \u001b[0;34m=\u001b[0m \u001b[0mperf_counter\u001b[0m\u001b[0;34m(\u001b[0m\u001b[0;34m)\u001b[0m \u001b[0;34m-\u001b[0m \u001b[0mt0\u001b[0m\u001b[0;34m\u001b[0m\u001b[0;34m\u001b[0m\u001b[0m\n\u001b[1;32m     93\u001b[0m \u001b[0;34m\u001b[0m\u001b[0m\n",
      "\u001b[0;32m~/Projet_Yanlei/uptodate/aideme/aideme/explore/explore.py\u001b[0m in \u001b[0;36m_get_next_point_to_label\u001b[0;34m(self, data, user, active_learner)\u001b[0m\n\u001b[1;32m    127\u001b[0m             \u001b[0;32mraise\u001b[0m \u001b[0mRuntimeError\u001b[0m\u001b[0;34m(\u001b[0m\u001b[0;34m\"The entire dataset has already been labeled!\"\u001b[0m\u001b[0;34m)\u001b[0m\u001b[0;34m\u001b[0m\u001b[0;34m\u001b[0m\u001b[0m\n\u001b[1;32m    128\u001b[0m \u001b[0;34m\u001b[0m\u001b[0m\n\u001b[0;32m--> 129\u001b[0;31m         \u001b[0;32mreturn\u001b[0m \u001b[0mactive_learner\u001b[0m\u001b[0;34m.\u001b[0m\u001b[0mnext_points_to_label\u001b[0m\u001b[0;34m(\u001b[0m\u001b[0mdata\u001b[0m\u001b[0;34m,\u001b[0m \u001b[0mself\u001b[0m\u001b[0;34m.\u001b[0m\u001b[0msubsampling\u001b[0m\u001b[0;34m)\u001b[0m\u001b[0;34m\u001b[0m\u001b[0;34m\u001b[0m\u001b[0m\n\u001b[0m\u001b[1;32m    130\u001b[0m \u001b[0;34m\u001b[0m\u001b[0m\n\u001b[1;32m    131\u001b[0m     \u001b[0;32mdef\u001b[0m \u001b[0m__compute_callback_metrics\u001b[0m\u001b[0;34m(\u001b[0m\u001b[0mself\u001b[0m\u001b[0;34m,\u001b[0m \u001b[0miter\u001b[0m\u001b[0;34m,\u001b[0m \u001b[0mdata\u001b[0m\u001b[0;34m,\u001b[0m \u001b[0muser\u001b[0m\u001b[0;34m,\u001b[0m \u001b[0mactive_learner\u001b[0m\u001b[0;34m)\u001b[0m\u001b[0;34m:\u001b[0m\u001b[0;34m\u001b[0m\u001b[0;34m\u001b[0m\u001b[0m\n",
      "\u001b[0;32m~/Projet_Yanlei/uptodate/aideme/aideme/active_learning/dsm/dsm.py\u001b[0m in \u001b[0;36mnext_points_to_label\u001b[0;34m(self, data, subsample)\u001b[0m\n\u001b[1;32m     96\u001b[0m         \u001b[0;32mwhile\u001b[0m \u001b[0mdata\u001b[0m\u001b[0;34m.\u001b[0m\u001b[0munknown_size\u001b[0m \u001b[0;34m>\u001b[0m \u001b[0;36m0\u001b[0m\u001b[0;34m:\u001b[0m\u001b[0;34m\u001b[0m\u001b[0;34m\u001b[0m\u001b[0m\n\u001b[1;32m     97\u001b[0m             \u001b[0midx_sample\u001b[0m\u001b[0;34m,\u001b[0m \u001b[0mX_sample\u001b[0m \u001b[0;34m=\u001b[0m \u001b[0mdata\u001b[0m\u001b[0;34m.\u001b[0m\u001b[0msample_unknown\u001b[0m\u001b[0;34m(\u001b[0m\u001b[0msubsample\u001b[0m\u001b[0;34m)\u001b[0m \u001b[0;32mif\u001b[0m \u001b[0mself\u001b[0m\u001b[0;34m.\u001b[0m\u001b[0mrng\u001b[0m\u001b[0;34m.\u001b[0m\u001b[0mrandom\u001b[0m\u001b[0;34m(\u001b[0m\u001b[0;34m)\u001b[0m \u001b[0;34m<\u001b[0m \u001b[0mself\u001b[0m\u001b[0;34m.\u001b[0m\u001b[0msample_unknown_proba\u001b[0m \u001b[0;32melse\u001b[0m \u001b[0mdata\u001b[0m\u001b[0;34m.\u001b[0m\u001b[0msample_unlabeled\u001b[0m\u001b[0;34m(\u001b[0m\u001b[0msubsample\u001b[0m\u001b[0;34m)\u001b[0m\u001b[0;34m\u001b[0m\u001b[0;34m\u001b[0m\u001b[0m\n\u001b[0;32m---> 98\u001b[0;31m             \u001b[0midx_selected\u001b[0m\u001b[0;34m,\u001b[0m \u001b[0mX_selected\u001b[0m \u001b[0;34m=\u001b[0m \u001b[0mself\u001b[0m\u001b[0;34m.\u001b[0m\u001b[0mactive_learner\u001b[0m\u001b[0;34m.\u001b[0m\u001b[0m_select_next\u001b[0m\u001b[0;34m(\u001b[0m\u001b[0midx_sample\u001b[0m\u001b[0;34m,\u001b[0m \u001b[0mX_sample\u001b[0m\u001b[0;34m)\u001b[0m\u001b[0;34m\u001b[0m\u001b[0;34m\u001b[0m\u001b[0m\n\u001b[0m\u001b[1;32m     99\u001b[0m \u001b[0;34m\u001b[0m\u001b[0m\n\u001b[1;32m    100\u001b[0m             \u001b[0;32mif\u001b[0m \u001b[0mself\u001b[0m\u001b[0;34m.\u001b[0m\u001b[0mfactorized\u001b[0m\u001b[0;34m:\u001b[0m\u001b[0;34m\u001b[0m\u001b[0;34m\u001b[0m\u001b[0m\n",
      "\u001b[0;32m~/Projet_Yanlei/uptodate/aideme/aideme/active_learning/active_learner.py\u001b[0m in \u001b[0;36m_select_next\u001b[0;34m(self, idx, X)\u001b[0m\n\u001b[1;32m     73\u001b[0m \u001b[0;34m\u001b[0m\u001b[0m\n\u001b[1;32m     74\u001b[0m     \u001b[0;32mdef\u001b[0m \u001b[0m_select_next\u001b[0m\u001b[0;34m(\u001b[0m\u001b[0mself\u001b[0m\u001b[0;34m,\u001b[0m \u001b[0midx\u001b[0m\u001b[0;34m,\u001b[0m \u001b[0mX\u001b[0m\u001b[0;34m)\u001b[0m\u001b[0;34m:\u001b[0m\u001b[0;34m\u001b[0m\u001b[0;34m\u001b[0m\u001b[0m\n\u001b[0;32m---> 75\u001b[0;31m         \u001b[0mranks\u001b[0m \u001b[0;34m=\u001b[0m \u001b[0mself\u001b[0m\u001b[0;34m.\u001b[0m\u001b[0mrank\u001b[0m\u001b[0;34m(\u001b[0m\u001b[0mX\u001b[0m\u001b[0;34m)\u001b[0m\u001b[0;34m\u001b[0m\u001b[0;34m\u001b[0m\u001b[0m\n\u001b[0m\u001b[1;32m     76\u001b[0m         \u001b[0mmin_row\u001b[0m \u001b[0;34m=\u001b[0m \u001b[0mnp\u001b[0m\u001b[0;34m.\u001b[0m\u001b[0marange\u001b[0m\u001b[0;34m(\u001b[0m\u001b[0mlen\u001b[0m\u001b[0;34m(\u001b[0m\u001b[0mX\u001b[0m\u001b[0;34m)\u001b[0m\u001b[0;34m)\u001b[0m\u001b[0;34m[\u001b[0m\u001b[0mranks\u001b[0m \u001b[0;34m==\u001b[0m \u001b[0mranks\u001b[0m\u001b[0;34m.\u001b[0m\u001b[0mmin\u001b[0m\u001b[0;34m(\u001b[0m\u001b[0;34m)\u001b[0m\u001b[0;34m]\u001b[0m\u001b[0;34m\u001b[0m\u001b[0;34m\u001b[0m\u001b[0m\n\u001b[1;32m     77\u001b[0m         \u001b[0mchosen_row\u001b[0m \u001b[0;34m=\u001b[0m \u001b[0mnp\u001b[0m\u001b[0;34m.\u001b[0m\u001b[0mrandom\u001b[0m\u001b[0;34m.\u001b[0m\u001b[0mchoice\u001b[0m\u001b[0;34m(\u001b[0m\u001b[0mmin_row\u001b[0m\u001b[0;34m)\u001b[0m\u001b[0;34m\u001b[0m\u001b[0;34m\u001b[0m\u001b[0m\n",
      "\u001b[0;32m~/Projet_Yanlei/uptodate/aideme/aideme/active_learning/svm/margin.py\u001b[0m in \u001b[0;36mrank\u001b[0;34m(self, X)\u001b[0m\n\u001b[1;32m     31\u001b[0m         \u001b[0;34m:\u001b[0m\u001b[0;32mreturn\u001b[0m\u001b[0;34m:\u001b[0m \u001b[0mdistance\u001b[0m \u001b[0mlist\u001b[0m\u001b[0;34m\u001b[0m\u001b[0;34m\u001b[0m\u001b[0m\n\u001b[1;32m     32\u001b[0m         \"\"\"\n\u001b[0;32m---> 33\u001b[0;31m         \u001b[0;32mreturn\u001b[0m \u001b[0mnp\u001b[0m\u001b[0;34m.\u001b[0m\u001b[0mabs\u001b[0m\u001b[0;34m(\u001b[0m\u001b[0mself\u001b[0m\u001b[0;34m.\u001b[0m\u001b[0mclf\u001b[0m\u001b[0;34m.\u001b[0m\u001b[0mdecision_function\u001b[0m\u001b[0;34m(\u001b[0m\u001b[0mX\u001b[0m\u001b[0;34m)\u001b[0m\u001b[0;34m)\u001b[0m\u001b[0;34m\u001b[0m\u001b[0;34m\u001b[0m\u001b[0m\n\u001b[0m\u001b[1;32m     34\u001b[0m \u001b[0;34m\u001b[0m\u001b[0m\n\u001b[1;32m     35\u001b[0m \u001b[0;34m\u001b[0m\u001b[0m\n",
      "\u001b[0;32m~/anaconda3/lib/python3.7/site-packages/sklearn/svm/base.py\u001b[0m in \u001b[0;36mdecision_function\u001b[0;34m(self, X)\u001b[0m\n\u001b[1;32m    551\u001b[0m         \u001b[0mtransformation\u001b[0m \u001b[0mof\u001b[0m \u001b[0movo\u001b[0m \u001b[0mdecision\u001b[0m \u001b[0mfunction\u001b[0m\u001b[0;34m.\u001b[0m\u001b[0;34m\u001b[0m\u001b[0;34m\u001b[0m\u001b[0m\n\u001b[1;32m    552\u001b[0m         \"\"\"\n\u001b[0;32m--> 553\u001b[0;31m         \u001b[0mdec\u001b[0m \u001b[0;34m=\u001b[0m \u001b[0mself\u001b[0m\u001b[0;34m.\u001b[0m\u001b[0m_decision_function\u001b[0m\u001b[0;34m(\u001b[0m\u001b[0mX\u001b[0m\u001b[0;34m)\u001b[0m\u001b[0;34m\u001b[0m\u001b[0;34m\u001b[0m\u001b[0m\n\u001b[0m\u001b[1;32m    554\u001b[0m         \u001b[0;32mif\u001b[0m \u001b[0mself\u001b[0m\u001b[0;34m.\u001b[0m\u001b[0mdecision_function_shape\u001b[0m \u001b[0;34m==\u001b[0m \u001b[0;34m'ovr'\u001b[0m \u001b[0;32mand\u001b[0m \u001b[0mlen\u001b[0m\u001b[0;34m(\u001b[0m\u001b[0mself\u001b[0m\u001b[0;34m.\u001b[0m\u001b[0mclasses_\u001b[0m\u001b[0;34m)\u001b[0m \u001b[0;34m>\u001b[0m \u001b[0;36m2\u001b[0m\u001b[0;34m:\u001b[0m\u001b[0;34m\u001b[0m\u001b[0;34m\u001b[0m\u001b[0m\n\u001b[1;32m    555\u001b[0m             \u001b[0;32mreturn\u001b[0m \u001b[0m_ovr_decision_function\u001b[0m\u001b[0;34m(\u001b[0m\u001b[0mdec\u001b[0m \u001b[0;34m<\u001b[0m \u001b[0;36m0\u001b[0m\u001b[0;34m,\u001b[0m \u001b[0;34m-\u001b[0m\u001b[0mdec\u001b[0m\u001b[0;34m,\u001b[0m \u001b[0mlen\u001b[0m\u001b[0;34m(\u001b[0m\u001b[0mself\u001b[0m\u001b[0;34m.\u001b[0m\u001b[0mclasses_\u001b[0m\u001b[0;34m)\u001b[0m\u001b[0;34m)\u001b[0m\u001b[0;34m\u001b[0m\u001b[0;34m\u001b[0m\u001b[0m\n",
      "\u001b[0;32m~/anaconda3/lib/python3.7/site-packages/sklearn/svm/base.py\u001b[0m in \u001b[0;36m_decision_function\u001b[0;34m(self, X)\u001b[0m\n\u001b[1;32m    401\u001b[0m             \u001b[0mdec_func\u001b[0m \u001b[0;34m=\u001b[0m \u001b[0mself\u001b[0m\u001b[0;34m.\u001b[0m\u001b[0m_sparse_decision_function\u001b[0m\u001b[0;34m(\u001b[0m\u001b[0mX\u001b[0m\u001b[0;34m)\u001b[0m\u001b[0;34m\u001b[0m\u001b[0;34m\u001b[0m\u001b[0m\n\u001b[1;32m    402\u001b[0m         \u001b[0;32melse\u001b[0m\u001b[0;34m:\u001b[0m\u001b[0;34m\u001b[0m\u001b[0;34m\u001b[0m\u001b[0m\n\u001b[0;32m--> 403\u001b[0;31m             \u001b[0mdec_func\u001b[0m \u001b[0;34m=\u001b[0m \u001b[0mself\u001b[0m\u001b[0;34m.\u001b[0m\u001b[0m_dense_decision_function\u001b[0m\u001b[0;34m(\u001b[0m\u001b[0mX\u001b[0m\u001b[0;34m)\u001b[0m\u001b[0;34m\u001b[0m\u001b[0;34m\u001b[0m\u001b[0m\n\u001b[0m\u001b[1;32m    404\u001b[0m \u001b[0;34m\u001b[0m\u001b[0m\n\u001b[1;32m    405\u001b[0m         \u001b[0;31m# In binary case, we need to flip the sign of coef, intercept and\u001b[0m\u001b[0;34m\u001b[0m\u001b[0;34m\u001b[0m\u001b[0;34m\u001b[0m\u001b[0m\n",
      "\u001b[0;32m~/anaconda3/lib/python3.7/site-packages/sklearn/svm/base.py\u001b[0m in \u001b[0;36m_dense_decision_function\u001b[0;34m(self, X)\u001b[0m\n\u001b[1;32m    424\u001b[0m             \u001b[0msvm_type\u001b[0m\u001b[0;34m=\u001b[0m\u001b[0mLIBSVM_IMPL\u001b[0m\u001b[0;34m.\u001b[0m\u001b[0mindex\u001b[0m\u001b[0;34m(\u001b[0m\u001b[0mself\u001b[0m\u001b[0;34m.\u001b[0m\u001b[0m_impl\u001b[0m\u001b[0;34m)\u001b[0m\u001b[0;34m,\u001b[0m\u001b[0;34m\u001b[0m\u001b[0;34m\u001b[0m\u001b[0m\n\u001b[1;32m    425\u001b[0m             \u001b[0mkernel\u001b[0m\u001b[0;34m=\u001b[0m\u001b[0mkernel\u001b[0m\u001b[0;34m,\u001b[0m \u001b[0mdegree\u001b[0m\u001b[0;34m=\u001b[0m\u001b[0mself\u001b[0m\u001b[0;34m.\u001b[0m\u001b[0mdegree\u001b[0m\u001b[0;34m,\u001b[0m \u001b[0mcache_size\u001b[0m\u001b[0;34m=\u001b[0m\u001b[0mself\u001b[0m\u001b[0;34m.\u001b[0m\u001b[0mcache_size\u001b[0m\u001b[0;34m,\u001b[0m\u001b[0;34m\u001b[0m\u001b[0;34m\u001b[0m\u001b[0m\n\u001b[0;32m--> 426\u001b[0;31m             coef0=self.coef0, gamma=self._gamma)\n\u001b[0m\u001b[1;32m    427\u001b[0m \u001b[0;34m\u001b[0m\u001b[0m\n\u001b[1;32m    428\u001b[0m     \u001b[0;32mdef\u001b[0m \u001b[0m_sparse_decision_function\u001b[0m\u001b[0;34m(\u001b[0m\u001b[0mself\u001b[0m\u001b[0;34m,\u001b[0m \u001b[0mX\u001b[0m\u001b[0;34m)\u001b[0m\u001b[0;34m:\u001b[0m\u001b[0;34m\u001b[0m\u001b[0;34m\u001b[0m\u001b[0m\n",
      "\u001b[0;31mKeyboardInterrupt\u001b[0m: "
     ]
    }
   ],
   "source": [
    "# SET-UP EXPLORATION CONFIGURATION\n",
    "NUMBER_OF_ITERATIONS = 150  # number of points to be labeled by the user\n",
    "SUBSAMPLING = float('inf') #10000, 50000, float('inf')\n",
    "INITIAL_SAMPLER = StratifiedSampler(pos=1, neg=1)  # start with one random positive sample and one random negative sample\n",
    "CALLBACK = [ # callback functions to be called at the end of each iteration\n",
    "    classification_metrics('fscore','true_positive','false_positive','false_negative'), \n",
    "    three_set_metric,\n",
    "]\n",
    "CALLBACK_SKIP = 15\n",
    "PRINT_CALLBACK_RESULT = True\n",
    "\n",
    "explore = PoolBasedExploration(NUMBER_OF_ITERATIONS, INITIAL_SAMPLER, SUBSAMPLING, CALLBACK, CALLBACK_SKIP, PRINT_CALLBACK_RESULT)\n",
    "\n",
    "# CHOOSE AN ALGORITHM\n",
    "#learner = RandomSampler(SVC(C=1e5, kernel='rbf', gamma='auto'))  # choose a random point\n",
    "learner = SimpleMargin(C=1024, kernel='rbf')  # choose point closest to SVM decision boundary\n",
    "#learner = KernelQueryByCommittee(kernel='rbf', sampling='deterministic', n_samples=8, warmup=1000, thin=100, rounding=True)  # version space algorithm\n",
    "learner = DualSpaceModel(learner, sample_unknown_proba=0.35, mode='positive')  # Dual Space model\n",
    "# new_df = pd.DataFrame(df_bert.values+df_jobtitle_small.values)\n",
    "X_one = df_roberta_jobtitle.join(df_bert, lsuffix='lol')\n",
    "X_two = df_roberta_jobtitle.join(df_backtrad, lsuffix='lol')\n",
    "# RUN EXPLORATION\n",
    "#ben\n",
    "print('Ben')\n",
    "metrics = explore.run(df_bert , y_ben, learner,X_bis=df_backtrad, repeat=2)  # 'repeat' specifies how many times to repeat the exploration process\n",
    "plot_fscore(metrics)\n",
    "metrics2 = explore.run(df_bert , y_ben, learner, repeat=2)\n",
    "plot_fscore(metrics2)\n",
    "metrics2bis= explore.run(df_roberta_jobtitle , y_ben, learner, repeat=3)\n",
    "plot_fscore(metrics2bis)\n",
    "#luciano\n",
    "print('Luciano')\n",
    "metrics3 = explore.run(X_one , y_luc, learner,X_bis=X_two, repeat=4)  # 'repeat' specifies how many times to repeat the exploration process\n",
    "metrics4 = explore.run(X_one , y_luc, learner, repeat=4)\n",
    "#enhui\n",
    "print('Enhui')\n",
    "metrics5 = explore.run(X_one , y_enh, learner,X_bis=X_two, repeat=4)  # 'repeat' specifies how many times to repeat the exploration process\n",
    "metrics6 = explore.run(X_one , y_enh, learner, repeat=4)\n",
    "#pierre\n",
    "print('Pierre')\n",
    "metrics7 = explore.run(X_one , y_pie, learner,X_bis=X_two, repeat=4)  # 'repeat' specifies how many times to repeat the exploration process\n",
    "metrics8 = explore.run(X_one , y_pie, learner, repeat=4)\n",
    "#chiheb\n",
    "print('Chiheb')\n",
    "metrics9 = explore.run(X_one , y_chi, learner,X_bis=X_two, repeat=4)  # 'repeat' specifies how many times to repeat the exploration process\n",
    "metrics10 = explore.run(X_one , y_chi, learner, repeat=4)\n",
    "#bastien\n",
    "print('Bastien')\n",
    "metrics11 = explore.run(X_one , y_bas, learner,X_bis=X_two, repeat=4)  # 'repeat' specifies how many times to repeat the exploration process\n",
    "metrics12 = explore.run(X_one , y_bas, learner, repeat=4)\n",
    "# COMPUTE AVERAGE F-SCORE OVER ALL REPEATS AND PLOT\n",
    "# plot_fscore(metrics)\n",
    "# plot_fscore(metrics2)\n",
    "\n",
    "# plt.figure()\n",
    "# df_list = [pd.DataFrame.from_dict({i: metric for i, metric in enumerate(ls)}, orient='index') for ls in metrics]\n",
    "# avg = sum([df['fscore'][~df['fscore'].isna()] for df in df_list]) / len(df_list)\n",
    "# df_list2 = [pd.DataFrame.from_dict({i: metric for i, metric in enumerate(ls)}, orient='index') for ls in metrics2]\n",
    "# avg2 = sum([df['fscore'][~df['fscore'].isna()] for df in df_list2]) / len(df_list2)\n",
    "# avg.plot(ylim=[0,1], marker='o',label='backtrad')\n",
    "# avg2.plot(ylim=[0,1], marker='o',label='normal')\n",
    "\n",
    "\n",
    "# plt.legend()\n",
    "# plt.show()"
   ]
  },
  {
   "cell_type": "code",
   "execution_count": 6,
   "metadata": {},
   "outputs": [
    {
     "data": {
      "image/png": "[encoded data removed]",
      "text/plain": [
       "<Figure size 432x288 with 1 Axes>"
      ]
     },
     "metadata": {
      "needs_background": "light"
     },
     "output_type": "display_data"
    }
   ],
   "source": [
    "plt.figure()\n",
    "df_list = [pd.DataFrame.from_dict({i: metric for i, metric in enumerate(ls)}, orient='index') for ls in metrics]\n",
    "avg = sum([df['fscore'][~df['fscore'].isna()] for df in df_list]) / len(df_list)\n",
    "df_list2 = [pd.DataFrame.from_dict({i: metric for i, metric in enumerate(ls)}, orient='index') for ls in metrics2]\n",
    "avg2 = sum([df['fscore'][~df['fscore'].isna()] for df in df_list2]) / len(df_list2)\n",
    "avg.plot(ylim=[0,1], marker='o',label='backtrad')\n",
    "avg2.plot(ylim=[0,1], marker='o',label='normal')\n",
    "plt.legend()\n",
    "plt.savefig('y_ben20_11_backtrad_textonly.png')\n",
    "plt.show()"
   ]
  },
  {
   "cell_type": "code",
   "execution_count": null,
   "metadata": {},
   "outputs": [],
   "source": [
    "plot_fscore(metrics)\n",
    "plot_fscore(metrics2)"
   ]
  },
  {
   "cell_type": "code",
   "execution_count": null,
   "metadata": {},
   "outputs": [],
   "source": [
    "df_ner['ORG_emb'][0].shape"
   ]
  },
  {
   "cell_type": "code",
   "execution_count": null,
   "metadata": {},
   "outputs": [],
   "source": [
    "plt.figure()\n",
    "df_list = [pd.DataFrame.from_dict({i: metric for i, metric in enumerate(ls)}, orient='index') for ls in metrics]\n",
    "avg = sum([df['fscore'][~df['fscore'].isna()] for df in df_list]) / len(df_list)\n",
    "df_list2 = [pd.DataFrame.from_dict({i: metric for i, metric in enumerate(ls)}, orient='index') for ls in metrics2]\n",
    "avg2 = sum([df['fscore'][~df['fscore'].isna()] for df in df_list2]) / len(df_list2)\n",
    "avg.plot(ylim=[0,1], marker='o',label='backtrad')\n",
    "avg2.plot(ylim=[0,1], marker='o',label='normal')\n",
    "\n",
    "df_list3 = [pd.DataFrame.from_dict({i: metric for i, metric in enumerate(ls)}, orient='index') for ls in metrics3]\n",
    "avg3 = sum([df['fscore'][~df['fscore'].isna()] for df in df_list3]) / len(df_list3)\n",
    "df_list4 = [pd.DataFrame.from_dict({i: metric for i, metric in enumerate(ls)}, orient='index') for ls in metrics4]\n",
    "avg4 = sum([df['fscore'][~df['fscore'].isna()] for df in df_list4]) / len(df_list4)\n",
    "avg3.plot(ylim=[0,1], marker='o',label='backtrad2')\n",
    "avg4.plot(ylim=[0,1], marker='o',label='normal2')\n",
    "\n",
    "df_list5 = [pd.DataFrame.from_dict({i: metric for i, metric in enumerate(ls)}, orient='index') for ls in metrics5]\n",
    "avg5 = sum([df['fscore'][~df['fscore'].isna()] for df in df_list5]) / len(df_list5)\n",
    "df_list6 = [pd.DataFrame.from_dict({i: metric for i, metric in enumerate(ls)}, orient='index') for ls in metrics6]\n",
    "avg6 = sum([df['fscore'][~df['fscore'].isna()] for df in df_list6]) / len(df_list6)\n",
    "avg5.plot(ylim=[0,1], marker='o',label='backtrad3')\n",
    "avg6.plot(ylim=[0,1], marker='o',label='normal3')\n",
    "df_list7 = [pd.DataFrame.from_dict({i: metric for i, metric in enumerate(ls)}, orient='index') for ls in metrics7]\n",
    "avg7 = sum([df['fscore'][~df['fscore'].isna()] for df in df_list7]) / len(df_list7)\n",
    "df_list8 = [pd.DataFrame.from_dict({i: metric for i, metric in enumerate(ls)}, orient='index') for ls in metrics8]\n",
    "avg8 = sum([df['fscore'][~df['fscore'].isna()] for df in df_list8]) / len(df_list8)\n",
    "avg7.plot(ylim=[0,1], marker='o',label='backtrad4')\n",
    "avg8.plot(ylim=[0,1], marker='o',label='normal4')\n",
    "df_list9 = [pd.DataFrame.from_dict({i: metric for i, metric in enumerate(ls)}, orient='index') for ls in metrics9]\n",
    "avg9 = sum([df['fscore'][~df['fscore'].isna()] for df in df_list9]) / len(df_list9)\n",
    "df_list10 = [pd.DataFrame.from_dict({i: metric for i, metric in enumerate(ls)}, orient='index') for ls in metrics10]\n",
    "avg10 = sum([df['fscore'][~df['fscore'].isna()] for df in df_list10]) / len(df_list10)\n",
    "avg9.plot(ylim=[0,1], marker='o',label='backtrad5')\n",
    "avg10.plot(ylim=[0,1], marker='o',label='normal5')\n",
    "df_list11 = [pd.DataFrame.from_dict({i: metric for i, metric in enumerate(ls)}, orient='index') for ls in metrics11]\n",
    "avg11 = sum([df['fscore'][~df['fscore'].isna()] for df in df_list11]) / len(df_list11)\n",
    "df_list12 = [pd.DataFrame.from_dict({i: metric for i, metric in enumerate(ls)}, orient='index') for ls in metrics12]\n",
    "avg12 = sum([df['fscore'][~df['fscore'].isna()] for df in df_list12]) / len(df_list12)\n",
    "avg11.plot(ylim=[0,1], marker='o',label='backtrad5')\n",
    "avg12.plot(ylim=[0,1], marker='o',label='normal5')\n",
    "plt.legend()\n",
    "plt.savefig('full_backtrad035.png')\n",
    "plt.show()"
   ]
  },
  {
   "cell_type": "code",
   "execution_count": null,
   "metadata": {},
   "outputs": [],
   "source": [
    "plt.figure()\n",
    "df_list = [pd.DataFrame.from_dict({i: metric for i, metric in enumerate(ls)}, orient='index') for ls in metrics]\n",
    "avg = sum([df['fscore'][~df['fscore'].isna()] for df in df_list]) / len(df_list)\n",
    "df_list2 = [pd.DataFrame.from_dict({i: metric for i, metric in enumerate(ls)}, orient='index') for ls in metrics2]\n",
    "avg2 = sum([df['fscore'][~df['fscore'].isna()] for df in df_list2]) / len(df_list2)\n",
    "avg.plot(ylim=[0,1], marker='o',label='backtrad')\n",
    "avg2.plot(ylim=[0,1], marker='o',label='normal')\n",
    "plt.legend()\n",
    "plt.savefig('ben_backtrad.png')\n",
    "\n",
    "plt.show()"
   ]
  },
  {
   "cell_type": "code",
   "execution_count": null,
   "metadata": {},
   "outputs": [],
   "source": [
    "plt.figure()\n",
    "df_list3 = [pd.DataFrame.from_dict({i: metric for i, metric in enumerate(ls)}, orient='index') for ls in metrics3]\n",
    "avg3 = sum([df['fscore'][~df['fscore'].isna()] for df in df_list3]) / len(df_list3)\n",
    "df_list4 = [pd.DataFrame.from_dict({i: metric for i, metric in enumerate(ls)}, orient='index') for ls in metrics4]\n",
    "avg4 = sum([df['fscore'][~df['fscore'].isna()] for df in df_list4]) / len(df_list4)\n",
    "avg3.plot(ylim=[0,1], marker='o',label='backtrad2')\n",
    "avg4.plot(ylim=[0,1], marker='o',label='normal2')\n",
    "plt.legend()\n",
    "plt.savefig('luc_backtrad.png')\n",
    "plt.show()"
   ]
  },
  {
   "cell_type": "code",
   "execution_count": null,
   "metadata": {},
   "outputs": [],
   "source": [
    "df_list5 = [pd.DataFrame.from_dict({i: metric for i, metric in enumerate(ls)}, orient='index') for ls in metrics5]\n",
    "avg5 = sum([df['fscore'][~df['fscore'].isna()] for df in df_list5]) / len(df_list5)\n",
    "df_list6 = [pd.DataFrame.from_dict({i: metric for i, metric in enumerate(ls)}, orient='index') for ls in metrics6]\n",
    "avg6 = sum([df['fscore'][~df['fscore'].isna()] for df in df_list6]) / len(df_list6)\n",
    "avg5.plot(ylim=[0,1], marker='o',label='backtrad3')\n",
    "avg6.plot(ylim=[0,1], marker='o',label='normal3')\n",
    "plt.legend()\n",
    "plt.savefig('enh_backtrad.png')\n",
    "plt.show()"
   ]
  },
  {
   "cell_type": "code",
   "execution_count": null,
   "metadata": {},
   "outputs": [],
   "source": [
    "df_list7 = [pd.DataFrame.from_dict({i: metric for i, metric in enumerate(ls)}, orient='index') for ls in metrics7]\n",
    "avg7 = sum([df['fscore'][~df['fscore'].isna()] for df in df_list7]) / len(df_list7)\n",
    "df_list8 = [pd.DataFrame.from_dict({i: metric for i, metric in enumerate(ls)}, orient='index') for ls in metrics8]\n",
    "avg8 = sum([df['fscore'][~df['fscore'].isna()] for df in df_list8]) / len(df_list8)\n",
    "avg7.plot(ylim=[0,1], marker='o',label='backtrad4')\n",
    "avg8.plot(ylim=[0,1], marker='o',label='normal4')\n",
    "plt.legend()\n",
    "plt.savefig('pie_backtrad.png')\n",
    "plt.show()"
   ]
  },
  {
   "cell_type": "code",
   "execution_count": null,
   "metadata": {},
   "outputs": [],
   "source": [
    "df_list9 = [pd.DataFrame.from_dict({i: metric for i, metric in enumerate(ls)}, orient='index') for ls in metrics9]\n",
    "avg9 = sum([df['fscore'][~df['fscore'].isna()] for df in df_list9]) / len(df_list9)\n",
    "df_list10 = [pd.DataFrame.from_dict({i: metric for i, metric in enumerate(ls)}, orient='index') for ls in metrics10]\n",
    "avg10 = sum([df['fscore'][~df['fscore'].isna()] for df in df_list10]) / len(df_list10)\n",
    "avg9.plot(ylim=[0,1], marker='o',label='backtrad4')\n",
    "avg10.plot(ylim=[0,1], marker='o',label='normal4')\n",
    "plt.legend()\n",
    "plt.savefig('chi_backtrad.png')\n",
    "plt.show()"
   ]
  },
  {
   "cell_type": "code",
   "execution_count": null,
   "metadata": {},
   "outputs": [],
   "source": [
    "df_list11 = [pd.DataFrame.from_dict({i: metric for i, metric in enumerate(ls)}, orient='index') for ls in metrics11]\n",
    "avg11 = sum([df['fscore'][~df['fscore'].isna()] for df in df_list11]) / len(df_list11)\n",
    "df_list12 = [pd.DataFrame.from_dict({i: metric for i, metric in enumerate(ls)}, orient='index') for ls in metrics12]\n",
    "avg12 = sum([df['fscore'][~df['fscore'].isna()] for df in df_list12]) / len(df_list12)\n",
    "avg11.plot(ylim=[0,1], marker='o',label='backtrad5')\n",
    "avg12.plot(ylim=[0,1], marker='o',label='normal5')\n",
    "plt.legend()\n",
    "plt.savefig('bas_backtrad.png')\n",
    "plt.show()"
   ]
  },
  {
   "cell_type": "code",
   "execution_count": null,
   "metadata": {},
   "outputs": [],
   "source": []
  }
 ],
 "metadata": {
  "kernelspec": {
   "display_name": "Python 3",
   "language": "python",
   "name": "python3"
  },
  "language_info": {
   "codemirror_mode": {
    "name": "ipython",
    "version": 3
   },
   "file_extension": ".py",
   "mimetype": "text/x-python",
   "name": "python",
   "nbconvert_exporter": "python",
   "pygments_lexer": "ipython3",
   "version": "3.7.2"
  },
  "latex_envs": {
   "LaTeX_envs_menu_present": true,
   "autoclose": false,
   "autocomplete": true,
   "bibliofile": "biblio.bib",
   "cite_by": "apalike",
   "current_citInitial": 1,
   "eqLabelWithNumbers": true,
   "eqNumInitial": 1,
   "hotkeys": {
    "equation": "Ctrl-E",
    "itemize": "Ctrl-I"
   },
   "labels_anchors": false,
   "latex_user_defs": false,
   "report_style_numbering": false,
   "user_envs_cfg": false
  }
 },
 "nbformat": 4,
 "nbformat_minor": 2
}
