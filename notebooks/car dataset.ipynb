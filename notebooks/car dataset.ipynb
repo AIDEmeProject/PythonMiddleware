{
 "cells": [
  {
   "cell_type": "code",
   "execution_count": 1,
   "metadata": {},
   "outputs": [
    {
     "data": {
      "text/html": [
       "<div>\n",
       "<style>\n",
       "    .dataframe thead tr:only-child th {\n",
       "        text-align: right;\n",
       "    }\n",
       "\n",
       "    .dataframe thead th {\n",
       "        text-align: left;\n",
       "    }\n",
       "\n",
       "    .dataframe tbody tr th {\n",
       "        vertical-align: top;\n",
       "    }\n",
       "</style>\n",
       "<table border=\"1\" class=\"dataframe\">\n",
       "  <thead>\n",
       "    <tr style=\"text-align: right;\">\n",
       "      <th></th>\n",
       "      <th>id</th>\n",
       "      <th>year</th>\n",
       "      <th>length_in</th>\n",
       "      <th>width_in</th>\n",
       "      <th>height_in</th>\n",
       "      <th>base_engine_size_l</th>\n",
       "      <th>horsepower_hp</th>\n",
       "      <th>horsepower_rpm</th>\n",
       "      <th>torque_ft-lbs</th>\n",
       "      <th>torque_rpm</th>\n",
       "      <th>...</th>\n",
       "      <th>color_centroid [   0    0 -127]</th>\n",
       "      <th>color_centroid [127 127   0]</th>\n",
       "      <th>color_centroid [   0 -127 -127]</th>\n",
       "      <th>color_centroid [127   0   0]</th>\n",
       "      <th>color_centroid [255 128 128]</th>\n",
       "      <th>color_centroid [255   0 128]</th>\n",
       "      <th>color_centroid [ 127    0 -128]</th>\n",
       "      <th>color_centroid [255   0   0]</th>\n",
       "      <th>color_centroid [64  0  0]</th>\n",
       "      <th>color_centroid [191   0   0]</th>\n",
       "    </tr>\n",
       "  </thead>\n",
       "  <tbody>\n",
       "    <tr>\n",
       "      <th>0</th>\n",
       "      <td>200713717</td>\n",
       "      <td>2016</td>\n",
       "      <td>181.9</td>\n",
       "      <td>70.6</td>\n",
       "      <td>55.6</td>\n",
       "      <td>2.4</td>\n",
       "      <td>201.0</td>\n",
       "      <td>6800.0</td>\n",
       "      <td>180.0</td>\n",
       "      <td>3800.0</td>\n",
       "      <td>...</td>\n",
       "      <td>False</td>\n",
       "      <td>True</td>\n",
       "      <td>False</td>\n",
       "      <td>True</td>\n",
       "      <td>False</td>\n",
       "      <td>False</td>\n",
       "      <td>False</td>\n",
       "      <td>True</td>\n",
       "      <td>True</td>\n",
       "      <td>False</td>\n",
       "    </tr>\n",
       "    <tr>\n",
       "      <th>1</th>\n",
       "      <td>200727572</td>\n",
       "      <td>2016</td>\n",
       "      <td>181.9</td>\n",
       "      <td>70.6</td>\n",
       "      <td>55.6</td>\n",
       "      <td>2.4</td>\n",
       "      <td>201.0</td>\n",
       "      <td>6800.0</td>\n",
       "      <td>180.0</td>\n",
       "      <td>3800.0</td>\n",
       "      <td>...</td>\n",
       "      <td>False</td>\n",
       "      <td>True</td>\n",
       "      <td>False</td>\n",
       "      <td>True</td>\n",
       "      <td>False</td>\n",
       "      <td>False</td>\n",
       "      <td>False</td>\n",
       "      <td>True</td>\n",
       "      <td>True</td>\n",
       "      <td>False</td>\n",
       "    </tr>\n",
       "    <tr>\n",
       "      <th>2</th>\n",
       "      <td>200727571</td>\n",
       "      <td>2016</td>\n",
       "      <td>181.9</td>\n",
       "      <td>70.6</td>\n",
       "      <td>55.6</td>\n",
       "      <td>2.4</td>\n",
       "      <td>201.0</td>\n",
       "      <td>6800.0</td>\n",
       "      <td>180.0</td>\n",
       "      <td>3800.0</td>\n",
       "      <td>...</td>\n",
       "      <td>False</td>\n",
       "      <td>True</td>\n",
       "      <td>False</td>\n",
       "      <td>True</td>\n",
       "      <td>False</td>\n",
       "      <td>False</td>\n",
       "      <td>False</td>\n",
       "      <td>True</td>\n",
       "      <td>True</td>\n",
       "      <td>False</td>\n",
       "    </tr>\n",
       "    <tr>\n",
       "      <th>3</th>\n",
       "      <td>200727568</td>\n",
       "      <td>2016</td>\n",
       "      <td>181.9</td>\n",
       "      <td>70.6</td>\n",
       "      <td>55.6</td>\n",
       "      <td>2.4</td>\n",
       "      <td>201.0</td>\n",
       "      <td>6800.0</td>\n",
       "      <td>180.0</td>\n",
       "      <td>3800.0</td>\n",
       "      <td>...</td>\n",
       "      <td>False</td>\n",
       "      <td>False</td>\n",
       "      <td>False</td>\n",
       "      <td>True</td>\n",
       "      <td>False</td>\n",
       "      <td>False</td>\n",
       "      <td>False</td>\n",
       "      <td>True</td>\n",
       "      <td>True</td>\n",
       "      <td>False</td>\n",
       "    </tr>\n",
       "    <tr>\n",
       "      <th>4</th>\n",
       "      <td>200727569</td>\n",
       "      <td>2016</td>\n",
       "      <td>181.9</td>\n",
       "      <td>70.6</td>\n",
       "      <td>55.6</td>\n",
       "      <td>2.4</td>\n",
       "      <td>201.0</td>\n",
       "      <td>6800.0</td>\n",
       "      <td>180.0</td>\n",
       "      <td>3800.0</td>\n",
       "      <td>...</td>\n",
       "      <td>False</td>\n",
       "      <td>True</td>\n",
       "      <td>False</td>\n",
       "      <td>True</td>\n",
       "      <td>False</td>\n",
       "      <td>False</td>\n",
       "      <td>False</td>\n",
       "      <td>True</td>\n",
       "      <td>True</td>\n",
       "      <td>False</td>\n",
       "    </tr>\n",
       "  </tbody>\n",
       "</table>\n",
       "<p>5 rows × 577 columns</p>\n",
       "</div>"
      ],
      "text/plain": [
       "          id  year  length_in  width_in  height_in  base_engine_size_l  \\\n",
       "0  200713717  2016      181.9      70.6       55.6                 2.4   \n",
       "1  200727572  2016      181.9      70.6       55.6                 2.4   \n",
       "2  200727571  2016      181.9      70.6       55.6                 2.4   \n",
       "3  200727568  2016      181.9      70.6       55.6                 2.4   \n",
       "4  200727569  2016      181.9      70.6       55.6                 2.4   \n",
       "\n",
       "   horsepower_hp  horsepower_rpm  torque_ft-lbs  torque_rpm  \\\n",
       "0          201.0          6800.0          180.0      3800.0   \n",
       "1          201.0          6800.0          180.0      3800.0   \n",
       "2          201.0          6800.0          180.0      3800.0   \n",
       "3          201.0          6800.0          180.0      3800.0   \n",
       "4          201.0          6800.0          180.0      3800.0   \n",
       "\n",
       "               ...               color_centroid [   0    0 -127]  \\\n",
       "0              ...                                         False   \n",
       "1              ...                                         False   \n",
       "2              ...                                         False   \n",
       "3              ...                                         False   \n",
       "4              ...                                         False   \n",
       "\n",
       "   color_centroid [127 127   0]  color_centroid [   0 -127 -127]  \\\n",
       "0                          True                            False   \n",
       "1                          True                            False   \n",
       "2                          True                            False   \n",
       "3                         False                            False   \n",
       "4                          True                            False   \n",
       "\n",
       "   color_centroid [127   0   0]  color_centroid [255 128 128]  \\\n",
       "0                          True                         False   \n",
       "1                          True                         False   \n",
       "2                          True                         False   \n",
       "3                          True                         False   \n",
       "4                          True                         False   \n",
       "\n",
       "   color_centroid [255   0 128]  color_centroid [ 127    0 -128]  \\\n",
       "0                         False                            False   \n",
       "1                         False                            False   \n",
       "2                         False                            False   \n",
       "3                         False                            False   \n",
       "4                         False                            False   \n",
       "\n",
       "   color_centroid [255   0   0]  color_centroid [64  0  0]  \\\n",
       "0                          True                       True   \n",
       "1                          True                       True   \n",
       "2                          True                       True   \n",
       "3                          True                       True   \n",
       "4                          True                       True   \n",
       "\n",
       "   color_centroid [191   0   0]  \n",
       "0                         False  \n",
       "1                         False  \n",
       "2                         False  \n",
       "3                         False  \n",
       "4                         False  \n",
       "\n",
       "[5 rows x 577 columns]"
      ]
     },
     "execution_count": 1,
     "metadata": {},
     "output_type": "execute_result"
    }
   ],
   "source": [
    "import numpy as np\n",
    "import pandas as pd\n",
    "import matplotlib.pyplot as plt\n",
    "%matplotlib inline\n",
    "\n",
    "data = pd.read_csv(\"/Users/luciano/Downloads/final_withoutpictures.csv\", sep=';')\n",
    "data.head()"
   ]
  },
  {
   "cell_type": "code",
   "execution_count": 54,
   "metadata": {},
   "outputs": [
    {
     "data": {
      "image/png": "[encoded data removed]",
      "text/plain": [
       "<matplotlib.figure.Figure at 0x10c8b83c8>"
      ]
     },
     "metadata": {},
     "output_type": "display_data"
    }
   ],
   "source": [
    "from matplotlib.ticker import FuncFormatter\n",
    "counts, bins = np.histogram(data['price_msrp'], bins=range(0, data['price_msrp'].max(), 50000))\n",
    "props = counts/len(data)\n",
    "\n",
    "def thousands(x, pos):\n",
    "    'The two args are the value and tick position'\n",
    "    return '$%1.1fk' % (x * 1e-3)\n",
    "\n",
    "formatter = FuncFormatter(thousands)\n",
    "\n",
    "fig, ax = plt.subplots(figsize=(12,8))\n",
    "plt.xticks(range(len(props)), 0.001*bins[1:])\n",
    "rects = plt.bar(range(len(props)), props, color='k')\n",
    "\n",
    "def autolabel(rects):\n",
    "    \"\"\"\n",
    "    Attach a text label above each bar displaying its height\n",
    "    \"\"\"\n",
    "    for rect in rects:\n",
    "        height = rect.get_height()\n",
    "        if 100*float(height) > 1:\n",
    "            ax.text(rect.get_x() + rect.get_width()/2., 1.05*height,\n",
    "                    '%.1f' % (100*float(height)),\n",
    "                    ha='center', va='bottom')\n",
    "autolabel(rects)\n",
    "\n",
    "plt.show()"
   ]
  },
  {
   "cell_type": "code",
   "execution_count": 57,
   "metadata": {},
   "outputs": [
    {
     "data": {
      "text/plain": [
       "0.048640167364016738"
      ]
     },
     "execution_count": 57,
     "metadata": {},
     "output_type": "execute_result"
    }
   ],
   "source": [
    "sum(data['price_msrp'] < 20000)/len(data)"
   ]
  },
  {
   "cell_type": "code",
   "execution_count": 62,
   "metadata": {},
   "outputs": [
    {
     "data": {
      "text/plain": [
       "[(2016, 2768), (2017, 2673), (2018, 295)]"
      ]
     },
     "execution_count": 62,
     "metadata": {},
     "output_type": "execute_result"
    }
   ],
   "source": [
    "from collections import Counter\n",
    "\n",
    "Counter(data['year']).most_common()"
   ]
  },
  {
   "cell_type": "code",
   "execution_count": 63,
   "metadata": {},
   "outputs": [
    {
     "data": {
      "text/plain": [
       "0.05142956764295677"
      ]
     },
     "execution_count": 63,
     "metadata": {},
     "output_type": "execute_result"
    }
   ],
   "source": [
    "295/len(data)"
   ]
  },
  {
   "cell_type": "code",
   "execution_count": 64,
   "metadata": {},
   "outputs": [
    {
     "data": {
      "text/plain": [
       "Index(['id', 'year', 'length_in', 'width_in', 'height_in',\n",
       "       'base_engine_size_l', 'horsepower_hp', 'horsepower_rpm',\n",
       "       'torque_ft-lbs', 'torque_rpm', 'valves', 'fuel_tank_capacity_gal',\n",
       "       'basic_year', 'basic_mile', 'drivetrain_year', 'drivetrain_mile',\n",
       "       'wheels_size', 'price_msrp', 'body_type_convertible', 'body_type_coupe',\n",
       "       'body_type_hatchback', 'body_type_minivan', 'body_type_sedan',\n",
       "       'body_type_suv', 'body_type_truck', 'body_type_van', 'body_type_wagon',\n",
       "       'body_type_nan', 'cam_type_double overhead cam (dohc)',\n",
       "       'cam_type_overhead valves (ohv)', 'cam_type_single overhead cam (sohc)',\n",
       "       'cam_type_nan', 'class_compact car', 'class_compact crossover suv',\n",
       "       'class_compact mpv', 'class_compact suv', 'class_full-size car',\n",
       "       'class_full-size crossover suv', 'class_full-size pickup truck',\n",
       "       'class_full-size suv', 'class_full-size van', 'class_grand tourer',\n",
       "       'class_mid-size car', 'class_mid-size crossover suv',\n",
       "       'class_mid-size pickup truck', 'class_mid-size suv', 'class_minivan',\n",
       "       'class_off-road vehicle', 'class_roadster car', 'class_sport car',\n",
       "       'class_sport cars', 'class_sport compact car', 'class_subcompact car',\n",
       "       'class_subcompact crossover suv', 'class_subcompact mpv',\n",
       "       'class_subcompact suv', 'class_supercar', 'class_nan',\n",
       "       'cylinders_flat 4', 'cylinders_flat 6', 'cylinders_flat4',\n",
       "       'cylinders_flat6', 'cylinders_i3', 'cylinders_i4', 'cylinders_i5',\n",
       "       'cylinders_i6', 'cylinders_v10', 'cylinders_v12', 'cylinders_v6',\n",
       "       'cylinders_v8', 'cylinders_w12', 'cylinders_nan',\n",
       "       'drive_type_all wheel drive', 'drive_type_four wheel drive',\n",
       "       'drive_type_front wheel drive', 'drive_type_rear wheel drive',\n",
       "       'drive_type_nan', 'engine_type_diesel', 'engine_type_electric fuel',\n",
       "       'engine_type_flex-fuel (ffv)', 'engine_type_gas', 'engine_type_hybrid',\n",
       "       'engine_type_nan', 'fuel_type_diesel fuel',\n",
       "       'fuel_type_flex-fuel (premium unleaded recommended/e85)',\n",
       "       'fuel_type_flex-fuel (unleaded/e85)',\n",
       "       'fuel_type_flex-fuel (unleaded/natural gas)', 'fuel_type_premium',\n",
       "       'fuel_type_premium unleaded (recommended)',\n",
       "       'fuel_type_premium unleaded (required)', 'fuel_type_regular unleaded',\n",
       "       'fuel_type_nan', 'make_acura', 'make_alfa romeo', 'make_aston martin',\n",
       "       'make_audi', 'make_bentley', 'make_bmw', 'make_buick', 'make_cadillac'],\n",
       "      dtype='object')"
      ]
     },
     "execution_count": 64,
     "metadata": {},
     "output_type": "execute_result"
    }
   ],
   "source": [
    "data.columns[:100]"
   ]
  },
  {
   "cell_type": "code",
   "execution_count": 66,
   "metadata": {},
   "outputs": [
    {
     "data": {
      "text/plain": [
       "0.037133891213389121"
      ]
     },
     "execution_count": 66,
     "metadata": {},
     "output_type": "execute_result"
    }
   ],
   "source": [
    "data['make_bmw'].sum()/len(data)"
   ]
  },
  {
   "cell_type": "code",
   "execution_count": null,
   "metadata": {},
   "outputs": [],
   "source": []
  }
 ],
 "metadata": {
  "kernelspec": {
   "display_name": "Python 3",
   "language": "python",
   "name": "python3"
  },
  "language_info": {
   "codemirror_mode": {
    "name": "ipython",
    "version": 3
   },
   "file_extension": ".py",
   "mimetype": "text/x-python",
   "name": "python",
   "nbconvert_exporter": "python",
   "pygments_lexer": "ipython3",
   "version": "3.6.2"
  }
 },
 "nbformat": 4,
 "nbformat_minor": 2
}
