{
 "cells": [
  {
   "cell_type": "code",
   "execution_count": 1,
   "metadata": {},
   "outputs": [],
   "source": [
    "import pandas as pd\n",
    "import json\n",
    "from collections import Counter"
   ]
  },
  {
   "cell_type": "code",
   "execution_count": 2,
   "metadata": {},
   "outputs": [],
   "source": [
    "def parse_file(email):\n",
    "    run_number = 0\n",
    "    runs = []\n",
    "    reviews = []\n",
    "    with open('/tmp/'+email, 'r') as file:\n",
    "        for line in file:\n",
    "            parsed_line = json.loads(line)\n",
    "            if 'query' in parsed_line:\n",
    "                run_number += 1\n",
    "                parsed_line['iteration'] = run_number\n",
    "                runs.append(parsed_line)\n",
    "            else:\n",
    "                parsed_line['iteration'] = run_number\n",
    "                reviews.append(parsed_line)\n",
    "\n",
    "    runs = pd.DataFrame(runs)\n",
    "    runs = runs.set_index('iteration')\n",
    "    \n",
    "    start_time = runs.iloc[0]['timestamp']\n",
    "    runs['timestamp'] -= start_time\n",
    "    \n",
    "    reviews = pd.DataFrame(reviews)#.drop_duplicates()\n",
    "    return runs, reviews\n",
    "\n",
    "def get_reviews_per_iteration(runs, reviews):\n",
    "    reviews_per_run = Counter(reviews['iteration'])\n",
    "    for i in range(1, len(runs) + 1):\n",
    "        if i not in reviews_per_run:\n",
    "            reviews_per_run[i] = 0\n",
    "    return pd.Series(reviews_per_run)\n",
    "\n",
    "def get_per_iteration_metrics(runs, reviews):\n",
    "    times = runs['timestamp'].values\n",
    "    review_time = times[1:] - times[:-1]\n",
    "    review_time = pd.Series(data=review_time, index=range(1,len(runs)))\n",
    "\n",
    "    backend_time = runs['execution_time']\n",
    "    queries = runs['query']\n",
    "    reviews_per_run = get_reviews_per_iteration(runs, reviews)\n",
    "    \n",
    "    per_iteration_metrics = pd.concat([reviews_per_run, review_time, backend_time, queries], axis=1)\n",
    "    per_iteration_metrics.columns = ['number_objects_reviewed', 'review_time', 'backend_time', 'queries']\n",
    "    return per_iteration_metrics\n",
    "\n",
    "def get_metrics(email):\n",
    "    runs, reviews = parse_file(email)\n",
    "    \n",
    "    metrics = {}\n",
    "    metrics['email'] = runs['email'].loc[1]\n",
    "    metrics['final_query'] = runs.loc[len(runs)]['query']\n",
    "    metrics['total_time'] = runs.loc[len(runs)]['timestamp']\n",
    "    metrics['number_iterations'] = len(runs) - 1\n",
    "    metrics['number_objects_reviewed'] = len(reviews)\n",
    "    metrics['per_iteration_metrics'] = get_per_iteration_metrics(runs, reviews)\n",
    "    return metrics"
   ]
  },
  {
   "cell_type": "code",
   "execution_count": 3,
   "metadata": {},
   "outputs": [
    {
     "data": {
      "text/plain": [
       "{'email': 'lucisdp@gmail.com',\n",
       " 'final_query': \"select distinct make, model, price_msrp\\nfrom car_fillblank\\nwhere transmission LIKE '%automatic%'\\n    and fuel_type NOT LIKE '%premium%'\\n    and fuel_type not in ('hydrogen', 'diesel fuel')\\n    and drive_type != 'front wheel drive'\\n    and body_type not in ('coupe', 'minivan')\\n    and class NOT like '%compact%'\\n    and make not in ('cadillac')\\n    and year >= 2017\\n    and price_msrp <= 30000\\n    and basic_year >= '5'\\norder by price_msrp\",\n",
       " 'number_iterations': 9,\n",
       " 'number_objects_reviewed': 41,\n",
       " 'per_iteration_metrics':            number_objects_reviewed  review_time  backend_time  \\\n",
       " iteration                                                       \n",
       " 1                                2       23.950         0.016   \n",
       " 2                                9      105.048         0.021   \n",
       " 3                                4      242.166         0.017   \n",
       " 4                                5      132.300         0.028   \n",
       " 5                                8       83.667         0.026   \n",
       " 6                                0      154.208         0.028   \n",
       " 7                                0       53.883         0.023   \n",
       " 8                                6      146.218         0.020   \n",
       " 9                                0       25.930         0.024   \n",
       " 10                               7          NaN         0.021   \n",
       " \n",
       "                                                      queries  \n",
       " iteration                                                     \n",
       " 1          select distinct transmission\\nfrom car_fillbla...  \n",
       " 2          select distinct fuel_type\\nfrom car_fillblank\\...  \n",
       " 3          select distinct drive_type\\nfrom car_fillblank...  \n",
       " 4          select distinct body_type, class\\nfrom car_fil...  \n",
       " 5          select distinct make, model, year\\nfrom car_fi...  \n",
       " 6          select distinct make, model, price_msrp\\nfrom ...  \n",
       " 7          select distinct make, model, price_msrp\\nfrom ...  \n",
       " 8          select distinct make, model, basic, drivetrain...  \n",
       " 9          select distinct make, model, price_msrp\\nfrom ...  \n",
       " 10         select distinct make, model, price_msrp\\nfrom ...  ,\n",
       " 'total_time': 967.36999988555908}"
      ]
     },
     "execution_count": 3,
     "metadata": {},
     "output_type": "execute_result"
    }
   ],
   "source": [
    "email = 'lucisdp@gmail.com'\n",
    "get_metrics(email)"
   ]
  },
  {
   "cell_type": "code",
   "execution_count": null,
   "metadata": {},
   "outputs": [],
   "source": []
  }
 ],
 "metadata": {
  "kernelspec": {
   "display_name": "Python 3",
   "language": "python",
   "name": "python3"
  },
  "language_info": {
   "codemirror_mode": {
    "name": "ipython",
    "version": 3
   },
   "file_extension": ".py",
   "mimetype": "text/x-python",
   "name": "python",
   "nbconvert_exporter": "python",
   "pygments_lexer": "ipython3",
   "version": "3.6.2"
  }
 },
 "nbformat": 4,
 "nbformat_minor": 2
}
