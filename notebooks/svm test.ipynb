{
 "cells": [
  {
   "cell_type": "code",
   "execution_count": 1,
   "metadata": {},
   "outputs": [],
   "source": [
    "import os\n",
    "import sys\n",
    "module_path = os.path.abspath(os.path.join('..'))\n",
    "if module_path not in sys.path:\n",
    "    sys.path.append(module_path)\n",
    "    \n",
    "import matplotlib.pyplot as plt\n",
    "from src.config import get_dataset_and_user\n",
    "%matplotlib inline"
   ]
  },
  {
   "cell_type": "code",
   "execution_count": 2,
   "metadata": {},
   "outputs": [],
   "source": [
    "# get data\n",
    "X_iris, user_iris = get_dataset_and_user('iris')\n",
    "y_iris = user_iris.get_label(X_iris, update_counter=False)\n",
    "X_iris['dummy'] = 1\n",
    "\n",
    "X_housing, user_housing = get_dataset_and_user('housing')\n",
    "y_housing = user_housing.get_label(X_housing, update_counter=False)\n",
    "X_housing['dummy'] = 1"
   ]
  },
  {
   "cell_type": "code",
   "execution_count": 3,
   "metadata": {},
   "outputs": [
    {
     "data": {
      "text/plain": [
       "1.0"
      ]
     },
     "execution_count": 3,
     "metadata": {},
     "output_type": "execute_result"
    }
   ],
   "source": [
    "from sklearn.svm import LinearSVC\n",
    "from sklearn.metrics import f1_score\n",
    "clf = LinearSVC(C=1000, fit_intercept=True)\n",
    "clf.fit(X_iris,y_iris)\n",
    "f1_score(clf.predict(X_iris), y_iris)"
   ]
  },
  {
   "cell_type": "code",
   "execution_count": null,
   "metadata": {
    "scrolled": false
   },
   "outputs": [],
   "source": [
    "from src.active_learning.svm import SimpleMargin, SolverMethod, OptimalMargin\n",
    "from src.active_learning.linear import LinearMajorityVote\n",
    "from src.active_learning.agnostic import RandomLearner\n",
    "from src.initial_sampling import FixedSizeStratifiedSampler\n",
    "from src.showdown import Showdown\n",
    "from src.plotting import plot_showdown\n",
    "\n",
    "user_housing.max_iter = 25\n",
    "user_iris.max_iter = 10\n",
    "\n",
    "active_learners_list = [\n",
    "     (\"random\", RandomLearner(LinearSVC(C=1000, fit_intercept=False))),\n",
    "     (\"simple margin\", SimpleMargin(kind='linear', C=1000, fit_intercept=False)),\n",
    "     ('optimal margin', OptimalMargin(C=1000, fit_intercept=False)),\n",
    "     ('linear majority', LinearMajorityVote(1000)),\n",
    "     #(\"rbfSVM\", SimpleMargin(C=1000, kernel='rbf')),\n",
    "     #(\"solver5\", SolverMethod(pool_size=5, C=1000, kernel='linear')),\n",
    "     #(\"solver10\", SolverMethod(pool_size=10, C=1000, kernel='linear')),\n",
    "     #(\"solver20\", SolverMethod(pool_size=20, C=1000, kernel='linear'))\n",
    "     #(\"actboost\", ActBoost(chain_length=100, sample_size=16, n_iterations=500)),\n",
    "     #(\"random\", RandomLearner(Adaboost(n_iterations=500))),\n",
    "     #(\"qbb\", QueryByBoosting(n_iterations=500)), \n",
    "]\n",
    "\n",
    "datasets_list = [\n",
    "    (\"housing\", X_housing, user_housing),\n",
    "    #(\"iris\", X_iris, user_iris),\n",
    "    #(\"polygon1\", X_pol, user_pol),\n",
    "    #(\"mushroom\", X_mush, user_mush),\n",
    "    #(\"dermatology\", X_derm, user_derm)\n",
    "]\n",
    "\n",
    "times = 20\n",
    "initial_sampler = FixedSizeStratifiedSampler(sample_size=2)\n",
    "showdown = Showdown(times, initial_sampler)\n",
    "output = showdown.run(datasets_list, active_learners_list)\n",
    "\n",
    "#print(output.head())\n",
    "plot_showdown(output, times, metrics_list=['fscore', 'version_space_ratio_estimate'])"
   ]
  },
  {
   "cell_type": "markdown",
   "metadata": {},
   "source": [
    "## Next steps\n",
    "    - add logging\n",
    "    - label points prematurely based on whether they cut the current version space or not (cut estimate = # samples)\n",
    "    - add offset (add column of 1's ?) -> works on above cases. Should test on sdss also.\n",
    "    - change classifier to average of sampled w's (similar to majority vote in ALuMa)\n",
    "    - add sdss queries\n",
    "    - initial sampling: use sampling to pick k points which closely cut the VS in 1/2^k proportion / probability of each region close to uniform (entropy criteria?). Can we avoid enumerating all k subsets?\n",
    "    - start using majoirity vote until 1 pos and 1 neg point have been found?"
   ]
  },
  {
   "cell_type": "code",
   "execution_count": null,
   "metadata": {},
   "outputs": [],
   "source": []
  }
 ],
 "metadata": {
  "kernelspec": {
   "display_name": "Python 3",
   "language": "python",
   "name": "python3"
  },
  "language_info": {
   "codemirror_mode": {
    "name": "ipython",
    "version": 3
   },
   "file_extension": ".py",
   "mimetype": "text/x-python",
   "name": "python",
   "nbconvert_exporter": "python",
   "pygments_lexer": "ipython3",
   "version": "3.6.2"
  }
 },
 "nbformat": 4,
 "nbformat_minor": 1
}
