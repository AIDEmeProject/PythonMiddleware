{
 "cells": [
  {
   "cell_type": "code",
   "execution_count": 1,
   "metadata": {},
   "outputs": [],
   "source": [
    "import os\n",
    "import sys\n",
    "module_path = os.path.abspath(os.path.join('..'))\n",
    "if module_path not in sys.path:\n",
    "    sys.path.append(module_path)\n",
    "    \n",
    "import matplotlib.pyplot as plt\n",
    "from src.config import get_dataset_and_user\n",
    "%matplotlib inline"
   ]
  },
  {
   "cell_type": "code",
   "execution_count": 9,
   "metadata": {},
   "outputs": [],
   "source": [
    "# get data\n",
    "X_iris, user_iris = get_dataset_and_user('iris')\n",
    "y_iris = user_iris.get_label(X_iris, update_counter=False)\n",
    "X_iris['dummy'] = 1\n",
    "\n",
    "X_housing, user_housing = get_dataset_and_user('housing')\n",
    "y_housing = user_housing.get_label(X_housing, update_counter=False)\n",
    "X_housing['dummy'] = 1"
   ]
  },
  {
   "cell_type": "code",
   "execution_count": 12,
   "metadata": {},
   "outputs": [
    {
     "data": {
      "text/plain": [
       "1.0"
      ]
     },
     "execution_count": 12,
     "metadata": {},
     "output_type": "execute_result"
    }
   ],
   "source": [
    "from sklearn.svm import LinearSVC\n",
    "from sklearn.metrics import f1_score\n",
    "clf = LinearSVC(C=1000, fit_intercept=True)\n",
    "clf.fit(X_iris,y_iris)\n",
    "f1_score(clf.predict(X_iris), y_iris)"
   ]
  },
  {
   "cell_type": "code",
   "execution_count": 13,
   "metadata": {
    "scrolled": true
   },
   "outputs": [
    {
     "name": "stdout",
     "output_type": "stream",
     "text": [
      "[[ -8.92768840e-01   1.10687211e+00   1.40174259e+00   1.65349470e+00\n",
      "   -1.06142678e+00  -1.72676157e-01   1.03031436e+00]\n",
      " [  7.16311625e-01  -7.38200426e-01  -2.10538413e-01  -5.83174182e-01\n",
      "    1.06142678e+00   1.72676157e-01  -1.03031436e+00]\n",
      " [  7.50759782e-01  -6.49647342e-01  -2.10538413e-01  -5.50795805e-01\n",
      "    1.06142678e+00   1.72676157e-01  -1.03031436e+00]\n",
      " [ -3.66175854e-01  -4.69232402e-01  -2.10538413e-01  -5.36263243e-01\n",
      "   -1.12637914e-01  -2.30183934e-01   7.31045296e-01]\n",
      " [ -1.15203781e+00  -2.60550314e-01  -2.10538413e-01   2.42230550e-01\n",
      "   -1.04692884e+00  -3.11835829e-01   8.53358138e-01]\n",
      " [ -8.71323957e-01   9.21981518e-01  -2.10538413e-01   1.34725681e+00\n",
      "   -1.70514291e-01  -2.20481574e-01   2.56706790e-01]\n",
      " [ -3.85978192e-01  -4.12424500e-01  -2.10538413e-01  -1.23217663e-01\n",
      "   -1.70514291e-01  -2.20481574e-01   2.56706790e-01]\n",
      " [  6.36036530e-01  -5.73573446e-01  -2.10538413e-01  -9.56140428e-02\n",
      "    1.06142678e+00   1.72676157e-01  -1.03031436e+00]\n",
      " [  2.05321377e+00   3.51583811e-01  -1.40174259e+00   1.26884334e+00\n",
      "   -1.93987968e+00  -2.48073523e-01  -2.18804509e+00]\n",
      " [ -3.84661139e-01   4.79111753e-01  -2.10538413e-01   1.60181087e+00\n",
      "   -4.92968806e-01  -3.47179750e-01   1.81749527e+00]\n",
      " [  2.34563324e-01  -1.68034588e-01   9.80665764e-01  -1.59042701e-02\n",
      "   -8.40227283e-01  -2.98403486e-01  -5.29443238e-03]\n",
      " [ -7.94817459e-02  -4.13583845e-01  -1.40174259e+00  -3.76502775e-01\n",
      "   -1.47686815e+00  -2.92882893e-01   9.92772887e-01]\n",
      " [ -2.26274187e+00  -1.67802719e-01  -1.40174259e+00   5.59180320e-01\n",
      "   -1.22882622e+00  -3.57256762e-01   2.10877496e+00]\n",
      " [  1.37300462e+00  -7.84806092e-01  -2.10538413e-01  -8.08290950e-01\n",
      "    1.06142678e+00   1.72676157e-01  -1.03031436e+00]\n",
      " [  1.81057453e-01   4.98896354e+00   9.80665764e-01   9.26989767e-01\n",
      "   -1.47686815e+00  -2.92882893e-01   9.92772887e-01]\n",
      " [ -4.92119655e-01  -5.27199648e-01  -2.10538413e-01  -5.26293372e-01\n",
      "    3.25569355e-01   7.07991958e+00   9.66093912e-01]]\n",
      "     fun: 1.194272189373636e-17\n",
      " message: 'Optimization terminated successfully.'\n",
      "     nit: 26\n",
      "   slack: array([  0.00000000e+00,   1.09578242e-16,   2.99895219e-17,\n",
      "         1.29317454e-17,   1.05493955e-15,   1.00000000e+00,\n",
      "         1.00000000e+00,   1.00000000e+00,   1.00000000e+00,\n",
      "         1.00000000e+00,   1.00000000e+00,   1.00000000e+00,\n",
      "         1.00000000e+00,   0.00000000e+00,   0.00000000e+00,\n",
      "         0.00000000e+00,   0.00000000e+00,   0.00000000e+00,\n",
      "         0.00000000e+00,   0.00000000e+00,   0.00000000e+00,\n",
      "         0.00000000e+00,   0.00000000e+00,   0.00000000e+00])\n",
      "  status: 0\n",
      " success: True\n",
      "       x: array([ -1.11022302e-16,   0.00000000e+00,   6.66133815e-16,\n",
      "         0.00000000e+00,   4.44089210e-16,   0.00000000e+00,\n",
      "        -3.33066907e-16,   0.00000000e+00])\n"
     ]
    },
    {
     "ename": "RuntimeError",
     "evalue": "Point outside search space!\nInequality constrain: False\nBall constrain: True\n",
     "output_type": "error",
     "traceback": [
      "\u001b[0;31m---------------------------------------------------------------------------\u001b[0m",
      "\u001b[0;31mRuntimeError\u001b[0m                              Traceback (most recent call last)",
      "\u001b[0;32m<ipython-input-13-395819e66811>\u001b[0m in \u001b[0;36m<module>\u001b[0;34m()\u001b[0m\n\u001b[1;32m     32\u001b[0m \u001b[0minitial_sampler\u001b[0m \u001b[0;34m=\u001b[0m \u001b[0mFixedSizeStratifiedSampler\u001b[0m\u001b[0;34m(\u001b[0m\u001b[0msample_size\u001b[0m\u001b[0;34m=\u001b[0m\u001b[0;36m2\u001b[0m\u001b[0;34m)\u001b[0m\u001b[0;34m\u001b[0m\u001b[0m\n\u001b[1;32m     33\u001b[0m \u001b[0mshowdown\u001b[0m \u001b[0;34m=\u001b[0m \u001b[0mShowdown\u001b[0m\u001b[0;34m(\u001b[0m\u001b[0mtimes\u001b[0m\u001b[0;34m,\u001b[0m \u001b[0minitial_sampler\u001b[0m\u001b[0;34m)\u001b[0m\u001b[0;34m\u001b[0m\u001b[0m\n\u001b[0;32m---> 34\u001b[0;31m \u001b[0moutput\u001b[0m \u001b[0;34m=\u001b[0m \u001b[0mshowdown\u001b[0m\u001b[0;34m.\u001b[0m\u001b[0mrun\u001b[0m\u001b[0;34m(\u001b[0m\u001b[0mdatasets_list\u001b[0m\u001b[0;34m,\u001b[0m \u001b[0mactive_learners_list\u001b[0m\u001b[0;34m)\u001b[0m\u001b[0;34m\u001b[0m\u001b[0m\n\u001b[0m\u001b[1;32m     35\u001b[0m \u001b[0;34m\u001b[0m\u001b[0m\n\u001b[1;32m     36\u001b[0m \u001b[0;31m#print(output.head())\u001b[0m\u001b[0;34m\u001b[0m\u001b[0;34m\u001b[0m\u001b[0m\n",
      "\u001b[0;32m~/Projects/explore_by_example/src/showdown/showdown.py\u001b[0m in \u001b[0;36mrun\u001b[0;34m(self, datasets_list, active_learners_list)\u001b[0m\n\u001b[1;32m     21\u001b[0m                     \u001b[0mkeys\u001b[0m\u001b[0;34m=\u001b[0m\u001b[0mactive_learners\u001b[0m\u001b[0;34m.\u001b[0m\u001b[0mtags\u001b[0m\u001b[0;34m\u001b[0m\u001b[0m\n\u001b[1;32m     22\u001b[0m                 )\n\u001b[0;32m---> 23\u001b[0;31m                 \u001b[0;32mfor\u001b[0m \u001b[0mdata\u001b[0m\u001b[0;34m,\u001b[0m \u001b[0muser\u001b[0m \u001b[0;32min\u001b[0m \u001b[0mzip\u001b[0m\u001b[0;34m(\u001b[0m\u001b[0mdatasets\u001b[0m\u001b[0;34m.\u001b[0m\u001b[0mdatasets\u001b[0m\u001b[0;34m,\u001b[0m \u001b[0mdatasets\u001b[0m\u001b[0;34m.\u001b[0m\u001b[0musers\u001b[0m\u001b[0;34m)\u001b[0m\u001b[0;34m\u001b[0m\u001b[0m\n\u001b[0m\u001b[1;32m     24\u001b[0m             ],\n\u001b[1;32m     25\u001b[0m             \u001b[0maxis\u001b[0m\u001b[0;34m=\u001b[0m\u001b[0;36m1\u001b[0m\u001b[0;34m,\u001b[0m\u001b[0;34m\u001b[0m\u001b[0m\n",
      "\u001b[0;32m~/Projects/explore_by_example/src/showdown/showdown.py\u001b[0m in \u001b[0;36m<listcomp>\u001b[0;34m(.0)\u001b[0m\n\u001b[1;32m     21\u001b[0m                     \u001b[0mkeys\u001b[0m\u001b[0;34m=\u001b[0m\u001b[0mactive_learners\u001b[0m\u001b[0;34m.\u001b[0m\u001b[0mtags\u001b[0m\u001b[0;34m\u001b[0m\u001b[0m\n\u001b[1;32m     22\u001b[0m                 )\n\u001b[0;32m---> 23\u001b[0;31m                 \u001b[0;32mfor\u001b[0m \u001b[0mdata\u001b[0m\u001b[0;34m,\u001b[0m \u001b[0muser\u001b[0m \u001b[0;32min\u001b[0m \u001b[0mzip\u001b[0m\u001b[0;34m(\u001b[0m\u001b[0mdatasets\u001b[0m\u001b[0;34m.\u001b[0m\u001b[0mdatasets\u001b[0m\u001b[0;34m,\u001b[0m \u001b[0mdatasets\u001b[0m\u001b[0;34m.\u001b[0m\u001b[0musers\u001b[0m\u001b[0;34m)\u001b[0m\u001b[0;34m\u001b[0m\u001b[0m\n\u001b[0m\u001b[1;32m     24\u001b[0m             ],\n\u001b[1;32m     25\u001b[0m             \u001b[0maxis\u001b[0m\u001b[0;34m=\u001b[0m\u001b[0;36m1\u001b[0m\u001b[0;34m,\u001b[0m\u001b[0;34m\u001b[0m\u001b[0m\n",
      "\u001b[0;32m~/Projects/explore_by_example/src/showdown/showdown.py\u001b[0m in \u001b[0;36m<listcomp>\u001b[0;34m(.0)\u001b[0m\n\u001b[1;32m     16\u001b[0m                 pd.concat(\n\u001b[1;32m     17\u001b[0m                     [\n\u001b[0;32m---> 18\u001b[0;31m                         \u001b[0mTask\u001b[0m\u001b[0;34m(\u001b[0m\u001b[0mdata\u001b[0m\u001b[0;34m,\u001b[0m \u001b[0muser\u001b[0m\u001b[0;34m,\u001b[0m \u001b[0mal\u001b[0m\u001b[0;34m,\u001b[0m \u001b[0mself\u001b[0m\u001b[0;34m.\u001b[0m\u001b[0minitial_sampler\u001b[0m\u001b[0;34m,\u001b[0m \u001b[0mself\u001b[0m\u001b[0;34m.\u001b[0m\u001b[0mtimes\u001b[0m\u001b[0;34m)\u001b[0m\u001b[0;34m.\u001b[0m\u001b[0mget_average_performance\u001b[0m\u001b[0;34m(\u001b[0m\u001b[0;34m)\u001b[0m \u001b[0;32mfor\u001b[0m \u001b[0mal\u001b[0m \u001b[0;32min\u001b[0m \u001b[0mactive_learners\u001b[0m\u001b[0;34m.\u001b[0m\u001b[0mlearners\u001b[0m\u001b[0;34m\u001b[0m\u001b[0m\n\u001b[0m\u001b[1;32m     19\u001b[0m                     ],\n\u001b[1;32m     20\u001b[0m                     \u001b[0maxis\u001b[0m\u001b[0;34m=\u001b[0m\u001b[0;36m1\u001b[0m\u001b[0;34m,\u001b[0m\u001b[0;34m\u001b[0m\u001b[0m\n",
      "\u001b[0;32m~/Projects/explore_by_example/src/config/task.py\u001b[0m in \u001b[0;36mget_average_performance\u001b[0;34m(self)\u001b[0m\n\u001b[1;32m     92\u001b[0m         \u001b[0;31m# train learner for several iterations\u001b[0m\u001b[0;34m\u001b[0m\u001b[0;34m\u001b[0m\u001b[0m\n\u001b[1;32m     93\u001b[0m         \u001b[0;32mfor\u001b[0m \u001b[0m_\u001b[0m \u001b[0;32min\u001b[0m \u001b[0mrange\u001b[0m\u001b[0;34m(\u001b[0m\u001b[0mself\u001b[0m\u001b[0;34m.\u001b[0m\u001b[0m__repeat\u001b[0m\u001b[0;34m)\u001b[0m\u001b[0;34m:\u001b[0m\u001b[0;34m\u001b[0m\u001b[0m\n\u001b[0;32m---> 94\u001b[0;31m             \u001b[0mstorage\u001b[0m\u001b[0;34m.\u001b[0m\u001b[0mpersist\u001b[0m\u001b[0;34m(\u001b[0m\u001b[0mself\u001b[0m\u001b[0;34m.\u001b[0m\u001b[0mtrain\u001b[0m\u001b[0;34m(\u001b[0m\u001b[0;34m)\u001b[0m\u001b[0;34m)\u001b[0m\u001b[0;34m\u001b[0m\u001b[0m\n\u001b[0m\u001b[1;32m     95\u001b[0m \u001b[0;34m\u001b[0m\u001b[0m\n\u001b[1;32m     96\u001b[0m         \u001b[0;31m# compute average performance\u001b[0m\u001b[0;34m\u001b[0m\u001b[0;34m\u001b[0m\u001b[0m\n",
      "\u001b[0;32m~/Projects/explore_by_example/src/config/task.py\u001b[0m in \u001b[0;36mtrain\u001b[0;34m(self)\u001b[0m\n\u001b[1;32m     81\u001b[0m \u001b[0;34m\u001b[0m\u001b[0m\n\u001b[1;32m     82\u001b[0m         \u001b[0;32mwhile\u001b[0m \u001b[0mself\u001b[0m\u001b[0;34m.\u001b[0m\u001b[0m__user\u001b[0m\u001b[0;34m.\u001b[0m\u001b[0mis_willing\u001b[0m\u001b[0;34m(\u001b[0m\u001b[0;34m)\u001b[0m \u001b[0;32mand\u001b[0m \u001b[0;34m(\u001b[0m\u001b[0;32mnot\u001b[0m \u001b[0mself\u001b[0m\u001b[0;34m.\u001b[0m\u001b[0mpool\u001b[0m\u001b[0;34m.\u001b[0m\u001b[0mhas_labeled_all\u001b[0m\u001b[0;34m(\u001b[0m\u001b[0;34m)\u001b[0m\u001b[0;34m)\u001b[0m\u001b[0;34m:\u001b[0m\u001b[0;34m\u001b[0m\u001b[0m\n\u001b[0;32m---> 83\u001b[0;31m             \u001b[0mscores\u001b[0m \u001b[0;34m=\u001b[0m \u001b[0mself\u001b[0m\u001b[0;34m.\u001b[0m\u001b[0mmain_loop\u001b[0m\u001b[0;34m(\u001b[0m\u001b[0;34m)\u001b[0m\u001b[0;34m\u001b[0m\u001b[0m\n\u001b[0m\u001b[1;32m     84\u001b[0m             \u001b[0mscores\u001b[0m\u001b[0;34m.\u001b[0m\u001b[0mupdate\u001b[0m\u001b[0;34m(\u001b[0m\u001b[0mself\u001b[0m\u001b[0;34m.\u001b[0m\u001b[0mget_score\u001b[0m\u001b[0;34m(\u001b[0m\u001b[0my_true\u001b[0m\u001b[0;34m)\u001b[0m\u001b[0;34m)\u001b[0m\u001b[0;34m\u001b[0m\u001b[0m\n\u001b[1;32m     85\u001b[0m             \u001b[0mtracker\u001b[0m\u001b[0;34m.\u001b[0m\u001b[0madd_measurement\u001b[0m\u001b[0;34m(\u001b[0m\u001b[0mscores\u001b[0m\u001b[0;34m)\u001b[0m\u001b[0;34m\u001b[0m\u001b[0m\n",
      "\u001b[0;32m~/Projects/explore_by_example/src/config/task.py\u001b[0m in \u001b[0;36mmain_loop\u001b[0;34m(self)\u001b[0m\n\u001b[1;32m     58\u001b[0m         \u001b[0;31m# retrain active learner\u001b[0m\u001b[0;34m\u001b[0m\u001b[0;34m\u001b[0m\u001b[0m\n\u001b[1;32m     59\u001b[0m         \u001b[0mt2\u001b[0m \u001b[0;34m=\u001b[0m \u001b[0mtime\u001b[0m\u001b[0;34m(\u001b[0m\u001b[0;34m)\u001b[0m\u001b[0;34m\u001b[0m\u001b[0m\n\u001b[0;32m---> 60\u001b[0;31m         \u001b[0mself\u001b[0m\u001b[0;34m.\u001b[0m\u001b[0mupdate_learner\u001b[0m\u001b[0;34m(\u001b[0m\u001b[0;34m)\u001b[0m\u001b[0;34m\u001b[0m\u001b[0m\n\u001b[0m\u001b[1;32m     61\u001b[0m         \u001b[0mretrain_time\u001b[0m \u001b[0;34m=\u001b[0m \u001b[0mtime\u001b[0m\u001b[0;34m(\u001b[0m\u001b[0;34m)\u001b[0m \u001b[0;34m-\u001b[0m \u001b[0mt2\u001b[0m\u001b[0;34m\u001b[0m\u001b[0m\n\u001b[1;32m     62\u001b[0m \u001b[0;34m\u001b[0m\u001b[0m\n",
      "\u001b[0;32m~/Projects/explore_by_example/src/config/task.py\u001b[0m in \u001b[0;36mupdate_learner\u001b[0;34m(self)\u001b[0m\n\u001b[1;32m     40\u001b[0m         \u001b[0mself\u001b[0m\u001b[0;34m.\u001b[0m\u001b[0m__learner\u001b[0m\u001b[0;34m.\u001b[0m\u001b[0mfit_classifier\u001b[0m\u001b[0;34m(\u001b[0m\u001b[0mX_train\u001b[0m\u001b[0;34m,\u001b[0m \u001b[0my_train\u001b[0m\u001b[0;34m)\u001b[0m\u001b[0;34m\u001b[0m\u001b[0m\n\u001b[1;32m     41\u001b[0m         \u001b[0;31m#print('update: ', X_train[-1], y_train[-1])\u001b[0m\u001b[0;34m\u001b[0m\u001b[0;34m\u001b[0m\u001b[0m\n\u001b[0;32m---> 42\u001b[0;31m         \u001b[0mself\u001b[0m\u001b[0;34m.\u001b[0m\u001b[0m__learner\u001b[0m\u001b[0;34m.\u001b[0m\u001b[0mupdate\u001b[0m\u001b[0;34m(\u001b[0m\u001b[0mX_train\u001b[0m\u001b[0;34m[\u001b[0m\u001b[0;34m-\u001b[0m\u001b[0;36m1\u001b[0m\u001b[0;34m]\u001b[0m\u001b[0;34m,\u001b[0m \u001b[0my_train\u001b[0m\u001b[0;34m[\u001b[0m\u001b[0;34m-\u001b[0m\u001b[0;36m1\u001b[0m\u001b[0;34m]\u001b[0m\u001b[0;34m)\u001b[0m\u001b[0;34m\u001b[0m\u001b[0m\n\u001b[0m\u001b[1;32m     43\u001b[0m \u001b[0;34m\u001b[0m\u001b[0m\n\u001b[1;32m     44\u001b[0m \u001b[0;34m\u001b[0m\u001b[0m\n",
      "\u001b[0;32m~/Projects/explore_by_example/src/active_learning/base.py\u001b[0m in \u001b[0;36mupdate\u001b[0;34m(self, points, labels)\u001b[0m\n\u001b[1;32m     43\u001b[0m         \u001b[0mpoints\u001b[0m\u001b[0;34m,\u001b[0m \u001b[0mlabels\u001b[0m \u001b[0;34m=\u001b[0m \u001b[0mnp\u001b[0m\u001b[0;34m.\u001b[0m\u001b[0matleast_2d\u001b[0m\u001b[0;34m(\u001b[0m\u001b[0mpoints\u001b[0m\u001b[0;34m)\u001b[0m\u001b[0;34m,\u001b[0m \u001b[0mnp\u001b[0m\u001b[0;34m.\u001b[0m\u001b[0matleast_1d\u001b[0m\u001b[0;34m(\u001b[0m\u001b[0mlabels\u001b[0m\u001b[0;34m)\u001b[0m\u001b[0;34m.\u001b[0m\u001b[0mravel\u001b[0m\u001b[0;34m(\u001b[0m\u001b[0;34m)\u001b[0m\u001b[0;34m\u001b[0m\u001b[0m\n\u001b[1;32m     44\u001b[0m         \u001b[0;32mfor\u001b[0m \u001b[0mpoint\u001b[0m\u001b[0;34m,\u001b[0m \u001b[0mlabel\u001b[0m \u001b[0;32min\u001b[0m \u001b[0mzip\u001b[0m\u001b[0;34m(\u001b[0m\u001b[0mpoints\u001b[0m\u001b[0;34m,\u001b[0m \u001b[0mlabels\u001b[0m\u001b[0;34m)\u001b[0m\u001b[0;34m:\u001b[0m\u001b[0;34m\u001b[0m\u001b[0m\n\u001b[0;32m---> 45\u001b[0;31m             \u001b[0mself\u001b[0m\u001b[0;34m.\u001b[0m\u001b[0mversion_space\u001b[0m\u001b[0;34m.\u001b[0m\u001b[0mupdate\u001b[0m\u001b[0;34m(\u001b[0m\u001b[0mpoint\u001b[0m\u001b[0;34m,\u001b[0m \u001b[0mlabel\u001b[0m\u001b[0;34m)\u001b[0m\u001b[0;34m\u001b[0m\u001b[0m\n\u001b[0m\u001b[1;32m     46\u001b[0m \u001b[0;34m\u001b[0m\u001b[0m\n\u001b[1;32m     47\u001b[0m \u001b[0;34m\u001b[0m\u001b[0m\n",
      "\u001b[0;32m~/Projects/explore_by_example/src/version_space/base.py\u001b[0m in \u001b[0;36mupdate\u001b[0;34m(self, point, label)\u001b[0m\n\u001b[1;32m     36\u001b[0m     \u001b[0;32mdef\u001b[0m \u001b[0mupdate\u001b[0m\u001b[0;34m(\u001b[0m\u001b[0mself\u001b[0m\u001b[0;34m,\u001b[0m \u001b[0mpoint\u001b[0m\u001b[0;34m,\u001b[0m \u001b[0mlabel\u001b[0m\u001b[0;34m)\u001b[0m\u001b[0;34m:\u001b[0m\u001b[0;34m\u001b[0m\u001b[0m\n\u001b[1;32m     37\u001b[0m         \u001b[0;34m\"\"\" Updates internal state given a new labeled point \"\"\"\u001b[0m\u001b[0;34m\u001b[0m\u001b[0m\n\u001b[0;32m---> 38\u001b[0;31m         \u001b[0mself\u001b[0m\u001b[0;34m.\u001b[0m\u001b[0mcut_estimator\u001b[0m\u001b[0;34m.\u001b[0m\u001b[0mupdate_sample\u001b[0m\u001b[0;34m(\u001b[0m\u001b[0mself\u001b[0m\u001b[0;34m)\u001b[0m\u001b[0;34m\u001b[0m\u001b[0m\n\u001b[0m\u001b[1;32m     39\u001b[0m \u001b[0;34m\u001b[0m\u001b[0m\n\u001b[1;32m     40\u001b[0m         \u001b[0mconstrain_vector\u001b[0m \u001b[0;34m=\u001b[0m \u001b[0;34m-\u001b[0m\u001b[0mlabel\u001b[0m \u001b[0;34m*\u001b[0m \u001b[0mpoint\u001b[0m\u001b[0;34m\u001b[0m\u001b[0m\n",
      "\u001b[0;32m~/Projects/explore_by_example/src/version_space/base.py\u001b[0m in \u001b[0;36mupdate_sample\u001b[0;34m(self, version_space)\u001b[0m\n\u001b[1;32m     56\u001b[0m     \u001b[0;32mdef\u001b[0m \u001b[0mupdate_sample\u001b[0m\u001b[0;34m(\u001b[0m\u001b[0mself\u001b[0m\u001b[0;34m,\u001b[0m \u001b[0mversion_space\u001b[0m\u001b[0;34m)\u001b[0m\u001b[0;34m:\u001b[0m\u001b[0;34m\u001b[0m\u001b[0m\n\u001b[1;32m     57\u001b[0m         \u001b[0;32mif\u001b[0m \u001b[0mhasattr\u001b[0m\u001b[0;34m(\u001b[0m\u001b[0mversion_space\u001b[0m\u001b[0;34m,\u001b[0m \u001b[0;34m'get_point'\u001b[0m\u001b[0;34m)\u001b[0m\u001b[0;34m:\u001b[0m\u001b[0;34m\u001b[0m\u001b[0m\n\u001b[0;32m---> 58\u001b[0;31m             \u001b[0mself\u001b[0m\u001b[0;34m.\u001b[0m\u001b[0m__sample_cache\u001b[0m \u001b[0;34m=\u001b[0m \u001b[0mself\u001b[0m\u001b[0;34m.\u001b[0m\u001b[0m__sampler\u001b[0m\u001b[0;34m.\u001b[0m\u001b[0msample_chain\u001b[0m\u001b[0;34m(\u001b[0m\u001b[0mversion_space\u001b[0m\u001b[0;34m,\u001b[0m \u001b[0mversion_space\u001b[0m\u001b[0;34m.\u001b[0m\u001b[0mget_point\u001b[0m\u001b[0;34m(\u001b[0m\u001b[0;34m)\u001b[0m\u001b[0;34m)\u001b[0m\u001b[0;34m\u001b[0m\u001b[0m\n\u001b[0m\u001b[1;32m     59\u001b[0m \u001b[0;34m\u001b[0m\u001b[0m\n\u001b[1;32m     60\u001b[0m     \u001b[0;32mdef\u001b[0m \u001b[0mestimate_cut\u001b[0m\u001b[0;34m(\u001b[0m\u001b[0mself\u001b[0m\u001b[0;34m,\u001b[0m \u001b[0mversion_space\u001b[0m\u001b[0;34m)\u001b[0m\u001b[0;34m:\u001b[0m\u001b[0;34m\u001b[0m\u001b[0m\n",
      "\u001b[0;32m~/Projects/explore_by_example/src/version_space/svm.py\u001b[0m in \u001b[0;36mget_point\u001b[0;34m(self)\u001b[0m\n\u001b[1;32m     73\u001b[0m                 \u001b[0;34m'Ball constrain: {1}\\n'\u001b[0m\u001b[0;34m\u001b[0m\u001b[0m\n\u001b[1;32m     74\u001b[0m                 .format(self.inequality_constrain.check(point),\n\u001b[0;32m---> 75\u001b[0;31m                         self.__ball.is_inside(point))\n\u001b[0m\u001b[1;32m     76\u001b[0m             )\n\u001b[1;32m     77\u001b[0m \u001b[0;34m\u001b[0m\u001b[0m\n",
      "\u001b[0;31mRuntimeError\u001b[0m: Point outside search space!\nInequality constrain: False\nBall constrain: True\n"
     ]
    }
   ],
   "source": [
    "from src.active_learning.svm import SimpleMargin, SolverMethod, OptimalMargin\n",
    "from src.active_learning.agnostic import RandomLearner\n",
    "from src.initial_sampling import FixedSizeStratifiedSampler\n",
    "from src.showdown import Showdown\n",
    "from src.plotting import plot_showdown\n",
    "\n",
    "user_housing.max_iter = 20\n",
    "user_iris.max_iter = 10\n",
    "\n",
    "active_learners_list = [\n",
    "     (\"random\", RandomLearner(LinearSVC(C=1000, fit_intercept=False))),\n",
    "     (\"simple margin\", SimpleMargin(kind='linear', C=1000, fit_intercept=True)),\n",
    "     ('optimal margin', OptimalMargin(C=1000, fit_intercept=True))\n",
    "     #(\"rbfSVM\", SimpleMargin(C=1000, kernel='rbf')),\n",
    "     #(\"solver5\", SolverMethod(pool_size=5, C=1000, kernel='linear')),\n",
    "     #(\"solver10\", SolverMethod(pool_size=10, C=1000, kernel='linear')),\n",
    "     #(\"solver20\", SolverMethod(pool_size=20, C=1000, kernel='linear'))\n",
    "     #(\"actboost\", ActBoost(chain_length=100, sample_size=16, n_iterations=500)),\n",
    "     #(\"random\", RandomLearner(Adaboost(n_iterations=500))),\n",
    "     #(\"qbb\", QueryByBoosting(n_iterations=500)), \n",
    "]\n",
    "\n",
    "datasets_list = [\n",
    "    (\"housing\", X_housing, user_housing),\n",
    "    #(\"iris\", X_iris, user_iris),\n",
    "    #(\"polygon1\", X_pol, user_pol),\n",
    "    #(\"mushroom\", X_mush, user_mush),\n",
    "    #(\"dermatology\", X_derm, user_derm)\n",
    "]\n",
    "\n",
    "times = 5\n",
    "initial_sampler = FixedSizeStratifiedSampler(sample_size=2)\n",
    "showdown = Showdown(times, initial_sampler)\n",
    "output = showdown.run(datasets_list, active_learners_list)\n",
    "\n",
    "#print(output.head())\n",
    "plot_showdown(output, times, metrics_list=['fscore', 'version_space_ratio_estimate'])"
   ]
  },
  {
   "cell_type": "markdown",
   "metadata": {},
   "source": [
    "## Next steps\n",
    "    - add logging\n",
    "    - label points prematurely based on whether they cut the current version space or not (cut estimate = # samples)\n",
    "    - add offset (add column of 1's ?) -> works on above cases. Should test on sdss also.\n",
    "    - change classifier to average of sampled w's (similar to majority vote in ALuMa)\n",
    "    - add sdss queries"
   ]
  },
  {
   "cell_type": "code",
   "execution_count": null,
   "metadata": {},
   "outputs": [],
   "source": []
  }
 ],
 "metadata": {
  "kernelspec": {
   "display_name": "Python 3",
   "language": "python",
   "name": "python3"
  },
  "language_info": {
   "codemirror_mode": {
    "name": "ipython",
    "version": 3
   },
   "file_extension": ".py",
   "mimetype": "text/x-python",
   "name": "python",
   "nbconvert_exporter": "python",
   "pygments_lexer": "ipython3",
   "version": "3.6.2"
  }
 },
 "nbformat": 4,
 "nbformat_minor": 1
}
