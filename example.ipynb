{
 "cells": [
  {
   "cell_type": "code",
   "execution_count": null,
   "metadata": {},
   "outputs": [],
   "source": [
    "# add path to explore_by_example src folder\n",
    "import os\n",
    "import sys\n",
    "module_path = os.path.abspath(os.path.join('..'))\n",
    "if module_path not in sys.path:\n",
    "    sys.path.append(module_path)\n",
    "\n",
    "\n",
    "# import usual libraries\n",
    "import numpy as np\n",
    "import pandas as pd\n",
    "import matplotlib.pyplot as plt\n",
    "from sklearn.svm import SVC\n",
    "from sklearn.metrics import f1_score\n",
    "\n",
    "# our system imports\n",
    "from aideme.active_learning import *\n",
    "from aideme.initial_sampling import StratifiedSampler\n",
    "from aideme.explore import *\n",
    "from aideme.utils.metrics import three_set_metric, classification_metrics\n",
    "from aideme.utils.plotting import plot_polytope\n",
    "\n",
    "%matplotlib inline"
   ]
  },
  {
   "cell_type": "code",
   "execution_count": null,
   "metadata": {},
   "outputs": [],
   "source": [
    "def plot_fscore(metrics):\n",
    "    df_list = [pd.DataFrame.from_dict({i: metric for i, metric in enumerate(ls)}, orient='index') for ls in metrics]\n",
    "    avg = sum([df['fscore'][~df['fscore'].isna()] for df in df_list]) / len(df_list)\n",
    "    avg.plot(ylim=[0,1], marker='o')\n",
    "    plt.show()"
   ]
  },
  {
   "cell_type": "code",
   "execution_count": null,
   "metadata": {},
   "outputs": [],
   "source": [
    "# DUMMY DATA\n",
    "limit = 0.067 #0.067\n",
    "X = np.random.uniform(low=-2, high=2, size=(100000, 2))  # do not forget to standardize the data. For this distribution, it should be fine without it.\n",
    "y_subspace = np.vstack([np.abs(X[:, 0]) < limit, np.abs(X[:, 1]) < limit]).T.astype('float')  # partial labels (for each subspace)\n",
    "y = y_subspace.min(axis=1)\n",
    "\n",
    "# visualize data distribution\n",
    "print('selectivity :', 100 * y.sum() / len(y), '%')\n",
    "\n",
    "#plt.figure(figsize=(10,8))\n",
    "#plt.scatter(X[:, 0], X[:, 1], s=0.5, c=['b' if lb else 'r' for lb in y])\n",
    "#plt.show()"
   ]
  },
  {
   "cell_type": "markdown",
   "metadata": {},
   "source": [
    "# NO FACTORIZATION EXAMPLE"
   ]
  },
  {
   "cell_type": "code",
   "execution_count": null,
   "metadata": {},
   "outputs": [],
   "source": [
    "# SET-UP EXPLORATION CONFIGURATION\n",
    "NUMBER_OF_ITERATIONS = 100  # number of points to be labeled by the user\n",
    "SUBSAMPLING = float('inf') #10000, 50000, float('inf')\n",
    "INITIAL_SAMPLER = StratifiedSampler(pos=1, neg=1)  # start with one random positive sample and one random negative sample\n",
    "CALLBACK = [ # callback functions to be called at the end of each iteration\n",
    "    classification_metrics('fscore'), \n",
    "    three_set_metric,\n",
    "]\n",
    "CALLBACK_SKIP = 10\n",
    "PRINT_CALLBACK_RESULT = True\n",
    "\n",
    "explore = PoolBasedExploration(NUMBER_OF_ITERATIONS, INITIAL_SAMPLER, SUBSAMPLING, CALLBACK, CALLBACK_SKIP, PRINT_CALLBACK_RESULT)\n",
    "\n",
    "# CHOOSE AN ALGORITHM\n",
    "#learner = RandomSampler(SVC(C=1e5, kernel='rbf', gamma='auto'))  # choose a random point\n",
    "learner = SimpleMargin(C=1024, kernel='rbf')  # choose point closest to SVM decision boundary\n",
    "#learner = KernelQueryByCommittee(kernel='rbf', sampling='deterministic', n_samples=8, warmup=1000, thin=100, rounding=True)  # version space algorithm\n",
    "learner = DualSpaceModel(learner, sample_unknown_proba=0.5, mode='positive')  # Dual Space model\n",
    "\n",
    "\n",
    "# RUN EXPLORATION\n",
    "metrics = explore.run(X, y, learner, repeat=1)  # 'repeat' specifies how many times to repeat the exploration process\n",
    "\n",
    "# COMPUTE AVERAGE F-SCORE OVER ALL REPEATS AND PLOT\n",
    "plot_fscore(metrics)"
   ]
  },
  {
   "cell_type": "markdown",
   "metadata": {},
   "source": [
    "# FACTORIZATION EXAMPLE"
   ]
  },
  {
   "cell_type": "code",
   "execution_count": null,
   "metadata": {},
   "outputs": [],
   "source": [
    "# SET-UP EXPLORATION CONFIGURATION\n",
    "NUMBER_OF_ITERATIONS = 50\n",
    "SUBSAMPLING = float('inf')\n",
    "INITIAL_SAMPLER = StratifiedSampler(pos=1, neg=1)\n",
    "CALLBACK = [\n",
    "    classification_metrics('fscore'), \n",
    "    three_set_metric, \n",
    "    # plot_polytope(), # plot the positive / negative / unknown regions\n",
    "]\n",
    "CALLBACK_SKIP = 5\n",
    "PRINT_CALLBACK_RESULT = True\n",
    "\n",
    "explore = PoolBasedExploration(NUMBER_OF_ITERATIONS, INITIAL_SAMPLER, SUBSAMPLING, CALLBACK, CALLBACK_SKIP, PRINT_CALLBACK_RESULT)\n",
    "\n",
    "# SUBSPATIAL LEARNER - run Simple Margin in each subspace\n",
    "#subspatial_active_learners = [\n",
    "#    KernelQueryByCommittee(kernel='rbf', n_samples=8, warmup=100, thin=10, sampling='deterministic'),\n",
    "#    KernelQueryByCommittee(kernel='rbf', n_samples=8, warmup=100, thin=10, sampling='deterministic'),\n",
    "#]\n",
    "\n",
    "#learner = SubspaceLearner(\n",
    "#    partition=[[0], [1]],  # partition of attributes (one subspace with the attribute 0, and another with 1)\n",
    "#    learners=subspatial_active_learners, \n",
    "#    #label_function='AND', probability_function='min', ranking_function='square'\n",
    "#)\n",
    "\n",
    "# FACTORIZED DSM\n",
    "learner = DualSpaceModel(SimpleMargin(C=1024, kernel='rbf'), mode='persist', sample_unknown_proba=0.5, partition=[[0], [1]])  # Dual Space model\n",
    "\n",
    "\n",
    "# RUN EXPLORATION\n",
    "metrics = explore.run(X, y_subspace, learner, repeat=1)  # use y_subspace here\n",
    "\n",
    "# COMPUTE AVERAGE F-SCORE OVER ALL REPEATS AND PLOT\n",
    "plot_fscore(metrics)"
   ]
  },
  {
   "cell_type": "code",
   "execution_count": null,
   "metadata": {},
   "outputs": [],
   "source": []
  }
 ],
 "metadata": {
  "kernelspec": {
   "display_name": "Python 3",
   "language": "python",
   "name": "python3"
  },
  "language_info": {
   "codemirror_mode": {
    "name": "ipython",
    "version": 3
   },
   "file_extension": ".py",
   "mimetype": "text/x-python",
   "name": "python",
   "nbconvert_exporter": "python",
   "pygments_lexer": "ipython3",
   "version": "3.6.8"
  }
 },
 "nbformat": 4,
 "nbformat_minor": 2
}
